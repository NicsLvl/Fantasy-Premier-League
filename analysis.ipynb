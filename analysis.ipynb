{
 "cells": [
  {
   "cell_type": "markdown",
   "metadata": {},
   "source": [
    "# Exploring FPL Data"
   ]
  },
  {
   "cell_type": "code",
   "execution_count": 1,
   "metadata": {},
   "outputs": [],
   "source": [
    "import pandas as pd\n",
    "import matplotlib.pyplot as plt\n",
    "import seaborn as sns"
   ]
  },
  {
   "cell_type": "code",
   "execution_count": 2,
   "metadata": {},
   "outputs": [
    {
     "name": "stdout",
     "output_type": "stream",
     "text": [
      "Year: 2017\n",
      "Index(['assists', 'bonus', 'bps', 'chance_of_playing_next_round',\n",
      "       'chance_of_playing_this_round', 'clean_sheets', 'code',\n",
      "       'cost_change_event', 'cost_change_event_fall', 'cost_change_start',\n",
      "       'cost_change_start_fall', 'creativity', 'dreamteam_count', 'ea_index',\n",
      "       'element_type', 'ep_next', 'ep_this', 'event_points', 'first_name',\n",
      "       'form', 'goals_conceded', 'goals_scored', 'ict_index', 'id',\n",
      "       'in_dreamteam', 'influence', 'loaned_in', 'loaned_out', 'loans_in',\n",
      "       'loans_out', 'minutes', 'news', 'news_added', 'now_cost', 'own_goals',\n",
      "       'penalties_missed', 'penalties_saved', 'photo', 'points_per_game',\n",
      "       'red_cards', 'saves', 'second_name', 'selected_by_percent', 'special',\n",
      "       'squad_number', 'status', 'team', 'team_code', 'threat', 'total_points',\n",
      "       'transfers_in', 'transfers_in_event', 'transfers_out',\n",
      "       'transfers_out_event', 'value_form', 'value_season', 'web_name',\n",
      "       'yellow_cards'],\n",
      "      dtype='object')\n",
      "\n",
      "\n",
      "Year: 2018\n",
      "Index(['assists', 'bonus', 'bps', 'chance_of_playing_next_round',\n",
      "       'chance_of_playing_this_round', 'clean_sheets', 'code',\n",
      "       'cost_change_event', 'cost_change_event_fall', 'cost_change_start',\n",
      "       'cost_change_start_fall', 'creativity', 'dreamteam_count', 'ea_index',\n",
      "       'element_type', 'ep_next', 'ep_this', 'event_points', 'first_name',\n",
      "       'form', 'goals_conceded', 'goals_scored', 'ict_index', 'id',\n",
      "       'in_dreamteam', 'influence', 'loaned_in', 'loaned_out', 'loans_in',\n",
      "       'loans_out', 'minutes', 'news', 'news_added', 'now_cost', 'own_goals',\n",
      "       'penalties_missed', 'penalties_saved', 'photo', 'points_per_game',\n",
      "       'red_cards', 'saves', 'second_name', 'selected_by_percent', 'special',\n",
      "       'squad_number', 'status', 'team', 'team_code', 'threat', 'total_points',\n",
      "       'transfers_in', 'transfers_in_event', 'transfers_out',\n",
      "       'transfers_out_event', 'value_form', 'value_season', 'web_name',\n",
      "       'yellow_cards'],\n",
      "      dtype='object')\n",
      "\n",
      "\n",
      "Year: 2019\n",
      "Index(['assists', 'bonus', 'bps', 'chance_of_playing_next_round',\n",
      "       'chance_of_playing_this_round', 'clean_sheets', 'code',\n",
      "       'cost_change_event', 'cost_change_event_fall', 'cost_change_start',\n",
      "       'cost_change_start_fall', 'creativity', 'creativity_rank',\n",
      "       'creativity_rank_type', 'dreamteam_count', 'element_type', 'ep_next',\n",
      "       'ep_this', 'event_points', 'first_name', 'form', 'goals_conceded',\n",
      "       'goals_scored', 'ict_index', 'ict_index_rank', 'ict_index_rank_type',\n",
      "       'id', 'in_dreamteam', 'influence', 'influence_rank',\n",
      "       'influence_rank_type', 'minutes', 'news', 'news_added', 'now_cost',\n",
      "       'own_goals', 'penalties_missed', 'penalties_saved', 'photo',\n",
      "       'points_per_game', 'red_cards', 'saves', 'second_name',\n",
      "       'selected_by_percent', 'special', 'squad_number', 'status', 'team',\n",
      "       'team_code', 'threat', 'threat_rank', 'threat_rank_type',\n",
      "       'total_points', 'transfers_in', 'transfers_in_event', 'transfers_out',\n",
      "       'transfers_out_event', 'value_form', 'value_season', 'web_name',\n",
      "       'yellow_cards'],\n",
      "      dtype='object')\n",
      "\n",
      "\n",
      "Year: 2020\n",
      "Index(['assists', 'bonus', 'bps', 'chance_of_playing_next_round',\n",
      "       'chance_of_playing_this_round', 'clean_sheets', 'code',\n",
      "       'corners_and_indirect_freekicks_order',\n",
      "       'corners_and_indirect_freekicks_text', 'cost_change_event',\n",
      "       'cost_change_event_fall', 'cost_change_start', 'cost_change_start_fall',\n",
      "       'creativity', 'creativity_rank', 'creativity_rank_type',\n",
      "       'direct_freekicks_order', 'direct_freekicks_text', 'dreamteam_count',\n",
      "       'element_type', 'ep_next', 'ep_this', 'event_points', 'first_name',\n",
      "       'form', 'goals_conceded', 'goals_scored', 'ict_index', 'ict_index_rank',\n",
      "       'ict_index_rank_type', 'id', 'in_dreamteam', 'influence',\n",
      "       'influence_rank', 'influence_rank_type', 'minutes', 'news',\n",
      "       'news_added', 'now_cost', 'own_goals', 'penalties_missed',\n",
      "       'penalties_order', 'penalties_saved', 'penalties_text', 'photo',\n",
      "       'points_per_game', 'red_cards', 'saves', 'second_name',\n",
      "       'selected_by_percent', 'special', 'squad_number', 'status', 'team',\n",
      "       'team_code', 'threat', 'threat_rank', 'threat_rank_type',\n",
      "       'total_points', 'transfers_in', 'transfers_in_event', 'transfers_out',\n",
      "       'transfers_out_event', 'value_form', 'value_season', 'web_name',\n",
      "       'yellow_cards'],\n",
      "      dtype='object')\n",
      "\n",
      "\n",
      "Year: 2021\n",
      "Index(['assists', 'bonus', 'bps', 'chance_of_playing_next_round',\n",
      "       'chance_of_playing_this_round', 'clean_sheets', 'code',\n",
      "       'corners_and_indirect_freekicks_order',\n",
      "       'corners_and_indirect_freekicks_text', 'cost_change_event',\n",
      "       'cost_change_event_fall', 'cost_change_start', 'cost_change_start_fall',\n",
      "       'creativity', 'creativity_rank', 'creativity_rank_type',\n",
      "       'direct_freekicks_order', 'direct_freekicks_text', 'dreamteam_count',\n",
      "       'element_type', 'ep_next', 'ep_this', 'event_points', 'first_name',\n",
      "       'form', 'goals_conceded', 'goals_scored', 'ict_index', 'ict_index_rank',\n",
      "       'ict_index_rank_type', 'id', 'in_dreamteam', 'influence',\n",
      "       'influence_rank', 'influence_rank_type', 'minutes', 'news',\n",
      "       'news_added', 'now_cost', 'own_goals', 'penalties_missed',\n",
      "       'penalties_order', 'penalties_saved', 'penalties_text', 'photo',\n",
      "       'points_per_game', 'red_cards', 'saves', 'second_name',\n",
      "       'selected_by_percent', 'special', 'squad_number', 'status', 'team',\n",
      "       'team_code', 'threat', 'threat_rank', 'threat_rank_type',\n",
      "       'total_points', 'transfers_in', 'transfers_in_event', 'transfers_out',\n",
      "       'transfers_out_event', 'value_form', 'value_season', 'web_name',\n",
      "       'yellow_cards'],\n",
      "      dtype='object')\n",
      "\n",
      "\n",
      "Year: 2022\n",
      "Index(['assists', 'bonus', 'bps', 'chance_of_playing_next_round',\n",
      "       'chance_of_playing_this_round', 'clean_sheets', 'clean_sheets_per_90',\n",
      "       'code', 'corners_and_indirect_freekicks_order',\n",
      "       'corners_and_indirect_freekicks_text', 'cost_change_event',\n",
      "       'cost_change_event_fall', 'cost_change_start', 'cost_change_start_fall',\n",
      "       'creativity', 'creativity_rank', 'creativity_rank_type',\n",
      "       'direct_freekicks_order', 'direct_freekicks_text', 'dreamteam_count',\n",
      "       'element_type', 'ep_next', 'ep_this', 'event_points',\n",
      "       'expected_assists', 'expected_assists_per_90',\n",
      "       'expected_goal_involvements', 'expected_goal_involvements_per_90',\n",
      "       'expected_goals', 'expected_goals_conceded',\n",
      "       'expected_goals_conceded_per_90', 'expected_goals_per_90', 'first_name',\n",
      "       'form', 'form_rank', 'form_rank_type', 'goals_conceded',\n",
      "       'goals_conceded_per_90', 'goals_scored', 'ict_index', 'ict_index_rank',\n",
      "       'ict_index_rank_type', 'id', 'in_dreamteam', 'influence',\n",
      "       'influence_rank', 'influence_rank_type', 'minutes', 'news',\n",
      "       'news_added', 'now_cost', 'now_cost_rank', 'now_cost_rank_type',\n",
      "       'own_goals', 'penalties_missed', 'penalties_order', 'penalties_saved',\n",
      "       'penalties_text', 'photo', 'points_per_game', 'points_per_game_rank',\n",
      "       'points_per_game_rank_type', 'red_cards', 'saves', 'saves_per_90',\n",
      "       'second_name', 'selected_by_percent', 'selected_rank',\n",
      "       'selected_rank_type', 'special', 'squad_number', 'starts',\n",
      "       'starts_per_90', 'status', 'team', 'team_code', 'threat', 'threat_rank',\n",
      "       'threat_rank_type', 'total_points', 'transfers_in',\n",
      "       'transfers_in_event', 'transfers_out', 'transfers_out_event',\n",
      "       'value_form', 'value_season', 'web_name', 'yellow_cards'],\n",
      "      dtype='object')\n",
      "\n",
      "\n",
      "Year: 2023\n",
      "Index(['assists', 'bonus', 'bps', 'chance_of_playing_next_round',\n",
      "       'chance_of_playing_this_round', 'clean_sheets', 'clean_sheets_per_90',\n",
      "       'code', 'corners_and_indirect_freekicks_order',\n",
      "       'corners_and_indirect_freekicks_text', 'cost_change_event',\n",
      "       'cost_change_event_fall', 'cost_change_start', 'cost_change_start_fall',\n",
      "       'creativity', 'creativity_rank', 'creativity_rank_type',\n",
      "       'direct_freekicks_order', 'direct_freekicks_text', 'dreamteam_count',\n",
      "       'element_type', 'ep_next', 'ep_this', 'event_points',\n",
      "       'expected_assists', 'expected_assists_per_90',\n",
      "       'expected_goal_involvements', 'expected_goal_involvements_per_90',\n",
      "       'expected_goals', 'expected_goals_conceded',\n",
      "       'expected_goals_conceded_per_90', 'expected_goals_per_90', 'first_name',\n",
      "       'form', 'form_rank', 'form_rank_type', 'goals_conceded',\n",
      "       'goals_conceded_per_90', 'goals_scored', 'ict_index', 'ict_index_rank',\n",
      "       'ict_index_rank_type', 'id', 'in_dreamteam', 'influence',\n",
      "       'influence_rank', 'influence_rank_type', 'minutes', 'news',\n",
      "       'news_added', 'now_cost', 'now_cost_rank', 'now_cost_rank_type',\n",
      "       'own_goals', 'penalties_missed', 'penalties_order', 'penalties_saved',\n",
      "       'penalties_text', 'photo', 'points_per_game', 'points_per_game_rank',\n",
      "       'points_per_game_rank_type', 'red_cards', 'saves', 'saves_per_90',\n",
      "       'second_name', 'selected_by_percent', 'selected_rank',\n",
      "       'selected_rank_type', 'special', 'squad_number', 'starts',\n",
      "       'starts_per_90', 'status', 'team', 'team_code', 'threat', 'threat_rank',\n",
      "       'threat_rank_type', 'total_points', 'transfers_in',\n",
      "       'transfers_in_event', 'transfers_out', 'transfers_out_event',\n",
      "       'value_form', 'value_season', 'web_name', 'yellow_cards'],\n",
      "      dtype='object')\n",
      "\n",
      "\n"
     ]
    }
   ],
   "source": [
    "for i in range(2017, 2024):\n",
    "    df = pd.read_csv(f'data/{i}-{i-1999}/players_raw.csv')\n",
    "    print(f'Year: {i}')\n",
    "    print(df.columns)\n",
    "    print('\\n')"
   ]
  },
  {
   "cell_type": "code",
   "execution_count": 3,
   "metadata": {},
   "outputs": [
    {
     "name": "stdout",
     "output_type": "stream",
     "text": [
      "Year: 2017\n",
      "       goals_scored     assists  total_points      minutes  goals_conceded  \\\n",
      "count    647.000000  647.000000    647.000000   647.000000      647.000000   \n",
      "mean       1.527048    1.401855     48.590417  1158.383308       17.307573   \n",
      "std        3.292095    2.508659     49.778028  1089.495943       16.804641   \n",
      "min        0.000000    0.000000      0.000000     0.000000        0.000000   \n",
      "25%        0.000000    0.000000      2.000000    35.500000        1.000000   \n",
      "50%        0.000000    0.000000     36.000000   987.000000       14.000000   \n",
      "75%        2.000000    2.000000     82.500000  2039.000000       30.000000   \n",
      "max       32.000000   18.000000    303.000000  3420.000000       63.000000   \n",
      "\n",
      "        creativity    influence       threat       bonus         bps  \\\n",
      "count   647.000000   647.000000   647.000000  647.000000  647.000000   \n",
      "mean    173.251314   267.690263   184.641422    3.737249  222.346213   \n",
      "std     250.047119   280.839000   292.522511    5.535046  222.968672   \n",
      "min       0.000000     0.000000     0.000000    0.000000   -1.000000   \n",
      "25%       0.000000     6.700000     0.000000    0.000000    8.000000   \n",
      "50%      64.800000   204.800000    63.000000    1.000000  171.000000   \n",
      "75%     265.800000   455.700000   239.000000    6.000000  382.000000   \n",
      "max    1744.200000  1496.200000  2355.000000   31.000000  913.000000   \n",
      "\n",
      "        ict_index  clean_sheets   red_cards  yellow_cards  \\\n",
      "count  647.000000    647.000000  647.000000    647.000000   \n",
      "mean    62.536785      3.948995    0.060278      1.795981   \n",
      "std     72.356213      4.315591    0.250847      2.268054   \n",
      "min      0.000000      0.000000    0.000000      0.000000   \n",
      "25%      1.850000      0.000000    0.000000      0.000000   \n",
      "50%     39.300000      3.000000    0.000000      1.000000   \n",
      "75%    100.200000      7.000000    0.000000      3.000000   \n",
      "max    454.400000     19.000000    2.000000     11.000000   \n",
      "\n",
      "       selected_by_percent    now_cost  \n",
      "count           647.000000  647.000000  \n",
      "mean              2.317311   51.264297  \n",
      "std               5.072720   12.945337  \n",
      "min               0.000000   38.000000  \n",
      "25%               0.100000   44.000000  \n",
      "50%               0.400000   47.000000  \n",
      "75%               2.200000   54.000000  \n",
      "max              56.700000  131.000000  \n",
      "\n",
      "\n",
      "Year: 2018\n",
      "       goals_scored     assists  total_points      minutes  goals_conceded  \\\n",
      "count    624.000000  624.000000    624.000000   624.000000      624.000000   \n",
      "mean       1.663462    1.495192     49.729167  1200.594551       18.897436   \n",
      "std        3.362843    2.536408     51.273779  1109.337238       18.237836   \n",
      "min        0.000000    0.000000      0.000000     0.000000        0.000000   \n",
      "25%        0.000000    0.000000      2.000000    61.750000        1.000000   \n",
      "50%        0.000000    0.000000     37.000000   976.000000       15.000000   \n",
      "75%        2.000000    2.000000     79.250000  2109.750000       33.000000   \n",
      "max       22.000000   15.000000    259.000000  3420.000000       78.000000   \n",
      "\n",
      "        creativity    influence       threat       bonus         bps  \\\n",
      "count   624.000000   624.000000   624.000000  624.000000  624.000000   \n",
      "mean    179.224679   276.444872   201.467949    3.881410  221.038462   \n",
      "std     251.409180   285.648944   307.938627    5.901713  221.378815   \n",
      "min       0.000000     0.000000     0.000000    0.000000   -2.000000   \n",
      "25%       0.100000     7.750000     0.000000    0.000000    9.750000   \n",
      "50%      75.950000   187.000000    80.000000    1.000000  158.500000   \n",
      "75%     260.250000   458.650000   273.250000    6.000000  375.750000   \n",
      "max    1515.000000  1306.200000  2168.000000   35.000000  932.000000   \n",
      "\n",
      "        ict_index  clean_sheets   red_cards  yellow_cards  \\\n",
      "count  624.000000    624.000000  624.000000    624.000000   \n",
      "mean    65.674679      3.756410    0.075321      1.956731   \n",
      "std     74.282354      4.378368    0.276007      2.533826   \n",
      "min      0.000000      0.000000    0.000000      0.000000   \n",
      "25%      2.300000      0.000000    0.000000      0.000000   \n",
      "50%     43.300000      3.000000    0.000000      1.000000   \n",
      "75%     97.850000      6.000000    0.000000      3.000000   \n",
      "max    432.700000     21.000000    2.000000     14.000000   \n",
      "\n",
      "       selected_by_percent    now_cost  \n",
      "count           624.000000  624.000000  \n",
      "mean              2.401122   50.490385  \n",
      "std               5.451707   12.376254  \n",
      "min               0.000000   38.000000  \n",
      "25%               0.100000   43.000000  \n",
      "50%               0.400000   47.000000  \n",
      "75%               1.925000   54.000000  \n",
      "max              42.700000  132.000000  \n",
      "\n",
      "\n",
      "Year: 2019\n",
      "       goals_scored     assists  total_points      minutes  goals_conceded  \\\n",
      "count    666.000000  666.000000    666.000000   666.000000      666.000000   \n",
      "mean       1.503003    1.352853     46.564565  1124.833333       17.078078   \n",
      "std        3.270394    2.395509     49.826582  1101.101809       16.908953   \n",
      "min        0.000000    0.000000      0.000000     0.000000        0.000000   \n",
      "25%        0.000000    0.000000      1.000000    11.250000        0.000000   \n",
      "50%        0.000000    0.000000     33.000000   865.000000       13.000000   \n",
      "75%        2.000000    2.000000     76.750000  2034.250000       30.750000   \n",
      "max       23.000000   23.000000    251.000000  3420.000000       71.000000   \n",
      "\n",
      "        creativity    influence       threat       bonus         bps  \\\n",
      "count   666.000000   666.000000   666.000000  666.000000  666.000000   \n",
      "mean    163.811111   249.890991   188.858859    3.645646  206.606607   \n",
      "std     238.562644   268.725237   309.390973    5.884141  215.591444   \n",
      "min       0.000000     0.000000     0.000000    0.000000    0.000000   \n",
      "25%       0.000000     1.200000     0.000000    0.000000    3.000000   \n",
      "50%      57.050000   171.100000    61.500000    1.000000  148.000000   \n",
      "75%     246.075000   435.750000   241.000000    5.000000  355.250000   \n",
      "max    1990.800000  1322.200000  2156.000000   40.000000  988.000000   \n",
      "\n",
      "        ict_index  clean_sheets   red_cards  yellow_cards  \\\n",
      "count  666.000000    666.000000  666.000000    666.000000   \n",
      "mean    60.220270      3.524024    0.067568      1.920420   \n",
      "std     71.268005      4.109061    0.274093      2.544279   \n",
      "min      0.000000      0.000000    0.000000      0.000000   \n",
      "25%      0.425000      0.000000    0.000000      0.000000   \n",
      "50%     39.250000      2.000000    0.000000      1.000000   \n",
      "75%     93.400000      6.000000    0.000000      3.000000   \n",
      "max    432.100000     18.000000    2.000000     12.000000   \n",
      "\n",
      "       selected_by_percent    now_cost  \n",
      "count           666.000000  666.000000  \n",
      "mean              2.248949   50.363363  \n",
      "std               5.335212   11.915244  \n",
      "min               0.000000   38.000000  \n",
      "25%               0.100000   43.000000  \n",
      "50%               0.350000   47.000000  \n",
      "75%               1.700000   53.000000  \n",
      "max              48.900000  125.000000  \n",
      "\n",
      "\n",
      "Year: 2020\n",
      "       goals_scored     assists  total_points      minutes  goals_conceded  \\\n",
      "count    713.000000  713.000000    713.000000   713.000000      713.000000   \n",
      "mean       1.382889    1.269285     44.106592  1050.872370       15.798036   \n",
      "std        2.994487    2.370315     49.668139  1092.292471       16.799834   \n",
      "min        0.000000    0.000000     -3.000000     0.000000        0.000000   \n",
      "25%        0.000000    0.000000      0.000000     0.000000        0.000000   \n",
      "50%        0.000000    0.000000     28.000000   701.000000       10.000000   \n",
      "75%        1.000000    2.000000     76.000000  1972.000000       27.000000   \n",
      "max       23.000000   14.000000    244.000000  3420.000000       74.000000   \n",
      "\n",
      "        creativity    influence       threat       bonus         bps  \\\n",
      "count   713.000000   713.000000   713.000000  713.000000  713.000000   \n",
      "mean    149.315288   226.406732   169.112202    3.446003  192.256662   \n",
      "std     229.101853   262.944484   283.037048    5.612007  213.752903   \n",
      "min       0.000000     0.000000     0.000000    0.000000   -4.000000   \n",
      "25%       0.000000     0.000000     0.000000    0.000000    0.000000   \n",
      "50%      35.200000   117.800000    46.000000    0.000000  117.000000   \n",
      "75%     233.300000   412.600000   218.000000    5.000000  353.000000   \n",
      "max    1414.900000  1318.200000  1980.000000   40.000000  880.000000   \n",
      "\n",
      "        ict_index  clean_sheets   red_cards  yellow_cards  \\\n",
      "count  713.000000    713.000000  713.000000    713.000000   \n",
      "mean    54.461150      3.495091    0.067321      1.534362   \n",
      "std     68.364183      4.208444    0.256293      2.115157   \n",
      "min      0.000000      0.000000    0.000000      0.000000   \n",
      "25%      0.000000      0.000000    0.000000      0.000000   \n",
      "50%     29.000000      2.000000    0.000000      1.000000   \n",
      "75%     87.600000      6.000000    0.000000      3.000000   \n",
      "max    396.200000     19.000000    2.000000     12.000000   \n",
      "\n",
      "       selected_by_percent    now_cost  \n",
      "count           713.000000  713.000000  \n",
      "mean              2.100701   50.316971  \n",
      "std               5.440102   11.844994  \n",
      "min               0.000000   38.000000  \n",
      "25%               0.000000   43.000000  \n",
      "50%               0.200000   47.000000  \n",
      "75%               1.400000   54.000000  \n",
      "max              48.700000  129.000000  \n",
      "\n",
      "\n",
      "Year: 2021\n",
      "       goals_scored     assists  total_points      minutes  goals_conceded  \\\n",
      "count    737.000000  737.000000    737.000000   737.000000      737.000000   \n",
      "mean       1.407056    1.260516     42.624152  1016.917232       15.985075   \n",
      "std        2.927076    2.208550     49.201379  1069.159756       17.575491   \n",
      "min        0.000000    0.000000     -1.000000     0.000000        0.000000   \n",
      "25%        0.000000    0.000000      0.000000     0.000000        0.000000   \n",
      "50%        0.000000    0.000000     24.000000   688.000000       10.000000   \n",
      "75%        1.000000    2.000000     74.000000  1862.000000       27.000000   \n",
      "max       23.000000   17.000000    265.000000  3420.000000       79.000000   \n",
      "\n",
      "        creativity    influence       threat       bonus         bps  \\\n",
      "count   737.000000   737.000000   737.000000  737.000000  737.000000   \n",
      "mean    145.263908   219.113433   170.065129    3.310719  185.838535   \n",
      "std     215.600382   252.947042   275.398483    5.318375  209.166630   \n",
      "min       0.000000     0.000000     0.000000    0.000000   -3.000000   \n",
      "25%       0.000000     0.000000     0.000000    0.000000    0.000000   \n",
      "50%      41.300000   125.800000    41.000000    0.000000  112.000000   \n",
      "75%     223.900000   381.200000   234.000000    5.000000  324.000000   \n",
      "max    1362.800000  1203.800000  2091.000000   33.000000  864.000000   \n",
      "\n",
      "        ict_index  clean_sheets   red_cards  yellow_cards  \\\n",
      "count  737.000000    737.000000  737.000000     737.00000   \n",
      "mean    53.412754      3.274084    0.058345       1.75848   \n",
      "std     66.328793      4.287658    0.245866       2.39253   \n",
      "min      0.000000      0.000000    0.000000       0.00000   \n",
      "25%      0.000000      0.000000    0.000000       0.00000   \n",
      "50%     28.300000      1.000000    0.000000       1.00000   \n",
      "75%     90.600000      6.000000    0.000000       3.00000   \n",
      "max    417.000000     21.000000    2.000000      11.00000   \n",
      "\n",
      "       selected_by_percent    now_cost  \n",
      "count           737.000000  737.000000  \n",
      "mean              2.031479   50.032564  \n",
      "std               4.742220   12.202393  \n",
      "min               0.000000   37.000000  \n",
      "25%               0.000000   44.000000  \n",
      "50%               0.200000   45.000000  \n",
      "75%               1.500000   53.000000  \n",
      "max              41.400000  131.000000  \n",
      "\n",
      "\n",
      "Year: 2022\n",
      "       goals_scored     assists  total_points      minutes  goals_conceded  \\\n",
      "count    778.000000  778.000000    778.000000   778.000000      778.000000   \n",
      "mean       1.334190    1.191517     40.776350   962.871465       15.326478   \n",
      "std        3.158024    2.327294     48.517681  1065.189209       17.004242   \n",
      "min        0.000000    0.000000      0.000000     0.000000        0.000000   \n",
      "25%        0.000000    0.000000      0.000000     0.000000        0.000000   \n",
      "50%        0.000000    0.000000     23.000000   557.500000       10.000000   \n",
      "75%        1.000000    1.000000     69.000000  1795.500000       28.000000   \n",
      "max       36.000000   18.000000    272.000000  3420.000000       74.000000   \n",
      "\n",
      "        creativity    influence       threat       bonus          bps  \\\n",
      "count   778.000000   778.000000   778.000000  778.000000   778.000000   \n",
      "mean    137.515039   205.808997   141.935733    3.132391   176.271208   \n",
      "std     227.855722   253.458057   247.164431    5.569424   208.842794   \n",
      "min       0.000000     0.000000     0.000000    0.000000    -1.000000   \n",
      "25%       0.000000     0.000000     0.000000    0.000000     0.000000   \n",
      "50%      37.450000    92.200000    33.500000    0.000000    89.500000   \n",
      "75%     177.675000   360.050000   176.250000    5.000000   308.750000   \n",
      "max    1818.500000  1390.000000  1825.000000   48.000000  1040.000000   \n",
      "\n",
      "        ict_index  clean_sheets   red_cards  yellow_cards  \\\n",
      "count  778.000000    778.000000  778.000000    778.000000   \n",
      "mean    48.498458      2.970437    0.038560      1.759640   \n",
      "std     64.572635      3.901015    0.199237      2.434748   \n",
      "min      0.000000      0.000000    0.000000      0.000000   \n",
      "25%      0.000000      0.000000    0.000000      0.000000   \n",
      "50%     24.600000      1.000000    0.000000      1.000000   \n",
      "75%     74.900000      5.000000    0.000000      3.000000   \n",
      "max    371.000000     18.000000    2.000000     14.000000   \n",
      "\n",
      "       selected_by_percent    now_cost  \n",
      "count           778.000000  778.000000  \n",
      "mean              1.923907   48.318766  \n",
      "std               5.769127   10.831870  \n",
      "min               0.000000   37.000000  \n",
      "25%               0.000000   43.000000  \n",
      "50%               0.200000   45.000000  \n",
      "75%               0.900000   50.000000  \n",
      "max              78.400000  131.000000  \n",
      "\n",
      "\n",
      "Year: 2023\n",
      "       goals_scored     assists  total_points      minutes  goals_conceded  \\\n",
      "count    809.000000  809.000000    809.000000   809.000000      809.000000   \n",
      "mean       0.867738    0.782447     23.022250   555.011125        9.925834   \n",
      "std        1.954573    1.631114     29.124043   655.500278       11.867021   \n",
      "min        0.000000    0.000000     -1.000000     0.000000        0.000000   \n",
      "25%        0.000000    0.000000      0.000000     0.000000        0.000000   \n",
      "50%        0.000000    0.000000     10.000000   200.000000        5.000000   \n",
      "75%        1.000000    1.000000     39.000000  1052.000000       18.000000   \n",
      "max       14.000000   14.000000    156.000000  2070.000000       57.000000   \n",
      "\n",
      "       creativity   influence      threat       bonus         bps   ict_index  \\\n",
      "count  809.000000  809.000000  809.000000  809.000000  809.000000  809.000000   \n",
      "mean    87.173918  130.189370   82.067985    1.803461  102.289246   29.926576   \n",
      "std    147.127614  168.176058  147.177030    3.397682  127.319686   41.096407   \n",
      "min      0.000000    0.000000    0.000000    0.000000   -3.000000    0.000000   \n",
      "25%      0.000000    0.000000    0.000000    0.000000    0.000000    0.000000   \n",
      "50%     14.800000   43.600000   13.000000    0.000000   39.000000   11.100000   \n",
      "75%    113.000000  226.400000   95.000000    3.000000  186.000000   47.100000   \n",
      "max    930.000000  771.000000  939.000000   21.000000  524.000000  233.100000   \n",
      "\n",
      "       clean_sheets   red_cards  yellow_cards  selected_by_percent    now_cost  \n",
      "count    809.000000  809.000000    809.000000           809.000000  809.000000  \n",
      "mean       1.440049    0.053152      1.241038             1.851545   48.013597  \n",
      "std        2.088198    0.235244      1.819176             5.866759   10.087295  \n",
      "min        0.000000    0.000000      0.000000             0.000000   37.000000  \n",
      "25%        0.000000    0.000000      0.000000             0.000000   43.000000  \n",
      "50%        0.000000    0.000000      0.000000             0.100000   45.000000  \n",
      "75%        2.000000    0.000000      2.000000             0.700000   50.000000  \n",
      "max        8.000000    2.000000      9.000000            63.100000  142.000000  \n",
      "\n",
      "\n"
     ]
    }
   ],
   "source": [
    "# for all the data provided by year, create a summary of the statistics for cleaned_players.csv\n",
    "for i in range(2017, 2024):\n",
    "    df = pd.read_csv(f'data/{i}-{i-1999}/cleaned_players.csv')\n",
    "    print(f'Year: {i}')\n",
    "    print(df.describe())\n",
    "    print('\\n')"
   ]
  },
  {
   "cell_type": "code",
   "execution_count": 4,
   "metadata": {},
   "outputs": [
    {
     "data": {
      "image/png": "[encoded data removed]",
      "text/plain": [
       "<Figure size 640x480 with 1 Axes>"
      ]
     },
     "metadata": {},
     "output_type": "display_data"
    },
    {
     "data": {
      "image/png": "[encoded data removed]",
      "text/plain": [
       "<Figure size 640x480 with 1 Axes>"
      ]
     },
     "metadata": {},
     "output_type": "display_data"
    },
    {
     "data": {
      "image/png": "[encoded data removed]",
      "text/plain": [
       "<Figure size 640x480 with 1 Axes>"
      ]
     },
     "metadata": {},
     "output_type": "display_data"
    },
    {
     "data": {
      "image/png": "[encoded data removed]",
      "text/plain": [
       "<Figure size 640x480 with 1 Axes>"
      ]
     },
     "metadata": {},
     "output_type": "display_data"
    },
    {
     "data": {
      "image/png": "[encoded data removed]",
      "text/plain": [
       "<Figure size 640x480 with 1 Axes>"
      ]
     },
     "metadata": {},
     "output_type": "display_data"
    },
    {
     "data": {
      "image/png": "[encoded data removed]",
      "text/plain": [
       "<Figure size 640x480 with 1 Axes>"
      ]
     },
     "metadata": {},
     "output_type": "display_data"
    },
    {
     "data": {
      "image/png": "[encoded data removed]",
      "text/plain": [
       "<Figure size 640x480 with 1 Axes>"
      ]
     },
     "metadata": {},
     "output_type": "display_data"
    }
   ],
   "source": [
    "for i in range(2017, 2024):\n",
    "    df = pd.read_csv(f'data/{i}-{i-1999}/cleaned_players.csv')\n",
    "    df['points_per_cost'] = df['total_points'] / df['now_cost']\n",
    "    plt.scatter(df['now_cost'], df['total_points'])\n",
    "    plt.xlabel('Now Cost')\n",
    "    plt.ylabel('Total Points')\n",
    "    plt.title(f'Scatter Plot of Players for Year {i}')\n",
    "    plt.show()"
   ]
  },
  {
   "cell_type": "code",
   "execution_count": 5,
   "metadata": {},
   "outputs": [
    {
     "name": "stderr",
     "output_type": "stream",
     "text": [
      "C:\\Users\\hurry\\AppData\\Local\\Temp\\ipykernel_25860\\3242764319.py:1: DtypeWarning: Columns (3) have mixed types. Specify dtype option on import or set low_memory=False.\n",
      "  df = pd.read_csv('data/cleaned_merged_seasons.csv')\n"
     ]
    },
    {
     "name": "stdout",
     "output_type": "stream",
     "text": [
      "  season_x                name position team_x  assists  bonus  bps  \\\n",
      "0  2016-17     Aaron Cresswell      DEF    NaN        0      0    0   \n",
      "1  2016-17        Aaron Lennon      MID    NaN        0      0    6   \n",
      "2  2016-17        Aaron Ramsey      MID    NaN        0      0    5   \n",
      "3  2016-17  Abdoulaye Doucouré      MID    NaN        0      0    0   \n",
      "4  2016-17        Adam Forshaw      MID    NaN        0      0    3   \n",
      "\n",
      "   clean_sheets  creativity  element  ...  team_h_score  threat  total_points  \\\n",
      "0             0         0.0      454  ...           2.0     0.0             0   \n",
      "1             0         0.3      142  ...           1.0     0.0             1   \n",
      "2             0         4.9       16  ...           3.0    23.0             2   \n",
      "3             0         0.0      482  ...           1.0     0.0             0   \n",
      "4             0         1.3      286  ...           1.0     0.0             1   \n",
      "\n",
      "   transfers_balance  transfers_in transfers_out  value  was_home  \\\n",
      "0                  0             0             0     55     False   \n",
      "1                  0             0             0     60      True   \n",
      "2                  0             0             0     80      True   \n",
      "3                  0             0             0     50     False   \n",
      "4                  0             0             0     45      True   \n",
      "\n",
      "  yellow_cards  GW  \n",
      "0            0   1  \n",
      "1            0   1  \n",
      "2            0   1  \n",
      "3            0   1  \n",
      "4            1   1  \n",
      "\n",
      "[5 rows x 37 columns]\n",
      "Index(['season_x', 'name', 'position', 'team_x', 'assists', 'bonus', 'bps',\n",
      "       'clean_sheets', 'creativity', 'element', 'fixture', 'goals_conceded',\n",
      "       'goals_scored', 'ict_index', 'influence', 'kickoff_time', 'minutes',\n",
      "       'opponent_team', 'opp_team_name', 'own_goals', 'penalties_missed',\n",
      "       'penalties_saved', 'red_cards', 'round', 'saves', 'selected',\n",
      "       'team_a_score', 'team_h_score', 'threat', 'total_points',\n",
      "       'transfers_balance', 'transfers_in', 'transfers_out', 'value',\n",
      "       'was_home', 'yellow_cards', 'GW'],\n",
      "      dtype='object')\n",
      "            assists         bonus           bps  clean_sheets   creativity  \\\n",
      "count  33683.000000  33683.000000  33683.000000  33683.000000  33683.00000   \n",
      "mean       0.025384      0.099457      6.881632      0.112698      3.37752   \n",
      "std        0.165387      0.453687      9.814836      0.316228      8.51505   \n",
      "min        0.000000      0.000000    -11.000000      0.000000      0.00000   \n",
      "25%        0.000000      0.000000      0.000000      0.000000      0.00000   \n",
      "50%        0.000000      0.000000      0.000000      0.000000      0.00000   \n",
      "75%        0.000000      0.000000     13.000000      0.000000      1.30000   \n",
      "max        2.000000      3.000000     63.000000      1.000000    124.00000   \n",
      "\n",
      "            element       fixture  goals_conceded  goals_scored     ict_index  \\\n",
      "count  33683.000000  33683.000000    33683.000000  33683.000000  33683.000000   \n",
      "mean     321.629457    197.082208        0.534038      0.016833      1.388840   \n",
      "std      188.638691    108.967159        1.018033      0.130709      2.238446   \n",
      "min        1.000000      1.000000        0.000000      0.000000      0.000000   \n",
      "25%      162.000000    104.000000        0.000000      0.000000      0.000000   \n",
      "50%      314.000000    200.000000        0.000000      0.000000      0.000000   \n",
      "75%      474.000000    292.000000        1.000000      0.000000      2.300000   \n",
      "max      775.000000    380.000000        9.000000      2.000000     19.700000   \n",
      "\n",
      "       ...  team_a_score  team_h_score        threat  total_points  \\\n",
      "count  ...  33683.000000  33683.000000  33683.000000  33683.000000   \n",
      "mean   ...      1.263011      1.514651      2.877832      1.292225   \n",
      "std    ...      1.228593      1.348725      7.916032      2.493520   \n",
      "min    ...      0.000000      0.000000      0.000000     -7.000000   \n",
      "25%    ...      0.000000      1.000000      0.000000      0.000000   \n",
      "50%    ...      1.000000      1.000000      0.000000      0.000000   \n",
      "75%    ...      2.000000      2.000000      1.000000      1.000000   \n",
      "max    ...      7.000000      9.000000    104.000000     21.000000   \n",
      "\n",
      "       transfers_balance  transfers_in  transfers_out         value  \\\n",
      "count       3.368300e+04  3.368300e+04   3.368300e+04  33683.000000   \n",
      "mean        1.211225e+03  1.206715e+04   1.085518e+04     46.337143   \n",
      "std         4.975656e+04  4.293030e+04   3.776217e+04      6.194968   \n",
      "min        -1.427216e+06  0.000000e+00   0.000000e+00     37.000000   \n",
      "25%        -1.550000e+03  5.700000e+01   1.640000e+02     43.000000   \n",
      "50%        -6.600000e+01  5.060000e+02   1.317000e+03     45.000000   \n",
      "75%         1.930000e+02  5.157000e+03   7.424000e+03     49.000000   \n",
      "max         1.047059e+06  1.219571e+06   1.445499e+06     85.000000   \n",
      "\n",
      "       yellow_cards            GW  \n",
      "count  33683.000000  33683.000000  \n",
      "mean       0.062673     20.621382  \n",
      "std        0.242377     10.953747  \n",
      "min        0.000000      1.000000  \n",
      "25%        0.000000     11.000000  \n",
      "50%        0.000000     21.000000  \n",
      "75%        0.000000     30.000000  \n",
      "max        1.000000     38.000000  \n",
      "\n",
      "[8 rows x 30 columns]\n"
     ]
    },
    {
     "data": {
      "image/png": "[encoded data removed]",
      "text/plain": [
       "<Figure size 640x480 with 1 Axes>"
      ]
     },
     "metadata": {},
     "output_type": "display_data"
    },
    {
     "name": "stdout",
     "output_type": "stream",
     "text": [
      "            assists         bonus           bps  clean_sheets    creativity  \\\n",
      "count  39163.000000  39163.000000  39163.000000  39163.000000  39163.000000   \n",
      "mean       0.059674      0.098945      5.793096      0.110257      7.143883   \n",
      "std        0.258828      0.476440      9.310739      0.313214     13.303204   \n",
      "min        0.000000      0.000000    -11.000000      0.000000      0.000000   \n",
      "25%        0.000000      0.000000      0.000000      0.000000      0.000000   \n",
      "50%        0.000000      0.000000      0.000000      0.000000      0.000000   \n",
      "75%        0.000000      0.000000      9.000000      0.000000     10.900000   \n",
      "max        4.000000      3.000000     93.000000      1.000000    170.900000   \n",
      "\n",
      "            element       fixture  goals_conceded  goals_scored     ict_index  \\\n",
      "count  39163.000000  39163.000000    39163.000000  39163.000000  39163.000000   \n",
      "mean     321.801011    198.701785        0.494727      0.058474      2.070712   \n",
      "std      196.684220    109.093024        0.955547      0.260527      3.456804   \n",
      "min        1.000000      1.000000        0.000000      0.000000      0.000000   \n",
      "25%      154.000000    105.000000        0.000000      0.000000      0.000000   \n",
      "50%      306.000000    203.000000        0.000000      0.000000      0.000000   \n",
      "75%      483.000000    294.000000        1.000000      0.000000      3.100000   \n",
      "max      778.000000    380.000000        9.000000      4.000000     32.800000   \n",
      "\n",
      "       ...  team_a_score  team_h_score        threat  total_points  \\\n",
      "count  ...  39163.000000  39163.000000  39163.000000  39163.000000   \n",
      "mean   ...      1.271991      1.525470      6.642877      1.453464   \n",
      "std    ...      1.232743      1.357494     14.270594      2.524311   \n",
      "min    ...      0.000000      0.000000      0.000000     -3.000000   \n",
      "25%    ...      0.000000      1.000000      0.000000      0.000000   \n",
      "50%    ...      1.000000      1.000000      0.000000      0.000000   \n",
      "75%    ...      2.000000      2.000000      6.000000      2.000000   \n",
      "max    ...      7.000000      9.000000    161.000000     29.000000   \n",
      "\n",
      "       transfers_balance  transfers_in  transfers_out         value  \\\n",
      "count       3.916300e+04  3.916300e+04   3.916300e+04  39163.000000   \n",
      "mean        1.726807e+03  1.395804e+04   1.223100e+04     54.016521   \n",
      "std         7.158407e+04  6.205787e+04   5.144299e+04     13.097440   \n",
      "min        -1.999266e+06  0.000000e+00   0.000000e+00     41.000000   \n",
      "25%        -9.170000e+02  3.100000e+01   7.100000e+01     45.000000   \n",
      "50%        -4.100000e+01  2.580000e+02   6.340000e+02     50.000000   \n",
      "75%         2.200000e+01  3.066500e+03   5.172500e+03     57.000000   \n",
      "max         1.907229e+06  1.991731e+06   2.041377e+06    133.000000   \n",
      "\n",
      "       yellow_cards            GW  \n",
      "count  39163.000000  39163.000000  \n",
      "mean       0.058371     20.816868  \n",
      "std        0.234447     10.959148  \n",
      "min        0.000000      1.000000  \n",
      "25%        0.000000     11.000000  \n",
      "50%        0.000000     22.000000  \n",
      "75%        0.000000     30.000000  \n",
      "max        1.000000     38.000000  \n",
      "\n",
      "[8 rows x 30 columns]\n"
     ]
    },
    {
     "data": {
      "image/png": "[encoded data removed]",
      "text/plain": [
       "<Figure size 640x480 with 1 Axes>"
      ]
     },
     "metadata": {},
     "output_type": "display_data"
    },
    {
     "name": "stdout",
     "output_type": "stream",
     "text": [
      "            assists         bonus           bps  clean_sheets    creativity  \\\n",
      "count  10654.000000  10654.000000  10654.000000  10654.000000  10654.000000   \n",
      "mean       0.001126      0.095833      5.788812      0.089544      0.085292   \n",
      "std        0.033544      0.459079      9.555349      0.285541      0.962465   \n",
      "min        0.000000      0.000000     -7.000000      0.000000      0.000000   \n",
      "25%        0.000000      0.000000      0.000000      0.000000      0.000000   \n",
      "50%        0.000000      0.000000      0.000000      0.000000      0.000000   \n",
      "75%        0.000000      0.000000     12.000000      0.000000      0.000000   \n",
      "max        1.000000      3.000000     54.000000      1.000000     30.000000   \n",
      "\n",
      "            element       fixture  goals_conceded  goals_scored     ict_index  \\\n",
      "count  10654.000000  10654.000000    10654.000000  10654.000000  10654.000000   \n",
      "mean     357.128215    200.129904        0.428478      0.000094      0.710916   \n",
      "std      194.806448    108.245487        0.959569      0.009688      1.327775   \n",
      "min        1.000000      1.000000        0.000000      0.000000      0.000000   \n",
      "25%      189.000000    108.000000        0.000000      0.000000      0.000000   \n",
      "50%      355.000000    205.000000        0.000000      0.000000      0.000000   \n",
      "75%      528.000000    294.000000        0.000000      0.000000      1.000000   \n",
      "max      776.000000    380.000000        9.000000      1.000000      9.500000   \n",
      "\n",
      "       ...  team_a_score  team_h_score        threat  total_points  \\\n",
      "count  ...  10654.000000  10654.000000  10654.000000  10654.000000   \n",
      "mean   ...      1.256993      1.499437      0.006289      1.155998   \n",
      "std    ...      1.220016      1.346045      0.250144      2.352227   \n",
      "min    ...      0.000000      0.000000      0.000000     -3.000000   \n",
      "25%    ...      0.000000      1.000000      0.000000      0.000000   \n",
      "50%    ...      1.000000      1.000000      0.000000      0.000000   \n",
      "75%    ...      2.000000      2.000000      0.000000      2.000000   \n",
      "max    ...      7.000000      9.000000     17.000000     16.000000   \n",
      "\n",
      "       transfers_balance   transfers_in  transfers_out         value  \\\n",
      "count       10654.000000   10654.000000   10654.000000  10654.000000   \n",
      "mean          970.214943    9945.459827    8975.204806     44.400976   \n",
      "std         29973.587006   29741.513838   23769.211243      4.964409   \n",
      "min       -934838.000000       0.000000       0.000000     37.000000   \n",
      "25%         -1400.750000      65.000000     173.000000     40.000000   \n",
      "50%           -77.500000     476.000000    1299.500000     44.000000   \n",
      "75%           140.000000    6318.750000    8324.000000     47.000000   \n",
      "max        624232.000000  758313.000000  939179.000000     63.000000   \n",
      "\n",
      "       yellow_cards            GW  \n",
      "count  10654.000000  10654.000000  \n",
      "mean       0.013891     20.945560  \n",
      "std        0.117046     10.876462  \n",
      "min        0.000000      1.000000  \n",
      "25%        0.000000     12.000000  \n",
      "50%        0.000000     22.000000  \n",
      "75%        0.000000     30.000000  \n",
      "max        1.000000     38.000000  \n",
      "\n",
      "[8 rows x 30 columns]\n"
     ]
    },
    {
     "data": {
      "image/png": "[encoded data removed]",
      "text/plain": [
       "<Figure size 640x480 with 1 Axes>"
      ]
     },
     "metadata": {},
     "output_type": "display_data"
    },
    {
     "name": "stdout",
     "output_type": "stream",
     "text": [
      "            assists         bonus           bps  clean_sheets    creativity  \\\n",
      "count  12669.000000  12669.000000  12669.000000  12669.000000  12669.000000   \n",
      "mean       0.058647      0.174363      5.082564      0.094483      4.800253   \n",
      "std        0.260768      0.639446     11.519302      0.292510      9.263285   \n",
      "min        0.000000      0.000000    -21.000000      0.000000      0.000000   \n",
      "25%        0.000000      0.000000      0.000000      0.000000      0.000000   \n",
      "50%        0.000000      0.000000      0.000000      0.000000      0.000000   \n",
      "75%        0.000000      0.000000      4.000000      0.000000      4.300000   \n",
      "max        4.000000      3.000000    128.000000      1.000000     68.400000   \n",
      "\n",
      "            element       fixture  goals_conceded  goals_scored     ict_index  \\\n",
      "count  12669.000000  12669.000000    12669.000000  12669.000000  12669.000000   \n",
      "mean     332.493883    199.620886        0.454732      0.119899      2.332970   \n",
      "std      198.909248    108.524309        0.918587      0.386142      4.077371   \n",
      "min        4.000000      1.000000        0.000000      0.000000      0.000000   \n",
      "25%      150.000000    107.000000        0.000000      0.000000      0.000000   \n",
      "50%      326.000000    205.000000        0.000000      0.000000      0.000000   \n",
      "75%      504.000000    293.000000        1.000000      0.000000      3.300000   \n",
      "max      770.000000    380.000000        9.000000      4.000000     31.500000   \n",
      "\n",
      "       ...  team_a_score  team_h_score        threat  total_points  \\\n",
      "count  ...  12669.000000  12669.000000  12669.000000  12669.000000   \n",
      "mean   ...      1.256611      1.507222     11.946247      1.569106   \n",
      "std    ...      1.226701      1.327034     21.715186      2.841830   \n",
      "min    ...      0.000000      0.000000      0.000000     -2.000000   \n",
      "25%    ...      0.000000      1.000000      0.000000      0.000000   \n",
      "50%    ...      1.000000      1.000000      0.000000      0.000000   \n",
      "75%    ...      2.000000      2.000000     17.000000      2.000000   \n",
      "max    ...      7.000000      9.000000    186.000000     24.000000   \n",
      "\n",
      "       transfers_balance  transfers_in  transfers_out         value  \\\n",
      "count       1.266900e+04  1.266900e+04   1.266900e+04  12669.000000   \n",
      "mean        3.356515e+03  2.683165e+04   2.347325e+04     62.296709   \n",
      "std         9.849497e+04  8.454861e+04   7.210705e+04     17.771449   \n",
      "min        -2.180978e+06  0.000000e+00   0.000000e+00     40.000000   \n",
      "25%        -3.258000e+03  1.060000e+02   3.770000e+02     50.000000   \n",
      "50%        -1.130000e+02  1.448000e+03   2.994000e+03     57.000000   \n",
      "75%         4.830000e+02  1.308300e+04   1.689400e+04     70.000000   \n",
      "max         1.983733e+06  2.104464e+06   2.233619e+06    132.000000   \n",
      "\n",
      "       yellow_cards            GW  \n",
      "count  12669.000000  12669.000000  \n",
      "mean       0.044834     20.888547  \n",
      "std        0.206947     10.907108  \n",
      "min        0.000000      1.000000  \n",
      "25%        0.000000     12.000000  \n",
      "50%        0.000000     22.000000  \n",
      "75%        0.000000     30.000000  \n",
      "max        1.000000     38.000000  \n",
      "\n",
      "[8 rows x 30 columns]\n"
     ]
    },
    {
     "data": {
      "image/png": "[encoded data removed]",
      "text/plain": [
       "<Figure size 640x480 with 1 Axes>"
      ]
     },
     "metadata": {},
     "output_type": "display_data"
    }
   ],
   "source": [
    "df = pd.read_csv('data/cleaned_merged_seasons.csv')\n",
    "print(df.head())\n",
    "print (df.columns)\n",
    "\n",
    "# Create a dictionary that maps positions to colors\n",
    "color_dict = {'DEF': 'red', 'MID': 'blue', 'GK': \"yellow\", 'FWD':'green'}  # Replace with your actual positions and desired colors\n",
    "df['position'] = df['position'].replace({\"GKP\": \"GK\"})\n",
    "\n",
    "positions = df['position'].unique()\n",
    "for position in positions:\n",
    "    pos_df = df[df['position']==position]\n",
    "    print(pos_df.describe())\n",
    "    plt.figure()\n",
    "    plt.title(position)\n",
    "    sns.regplot(x=pos_df['minutes'], y=pos_df['total_points'],)\n",
    "    plt.show()"
   ]
  },
  {
   "cell_type": "code",
   "execution_count": 13,
   "metadata": {},
   "outputs": [
    {
     "name": "stdout",
     "output_type": "stream",
     "text": [
      "  first_name           second_name  goals_scored  assists  total_points  \\\n",
      "0    Folarin               Balogun             0        0             0   \n",
      "1     Cédric          Alves Soares             0        0             0   \n",
      "2    Mohamed                Elneny             0        1             4   \n",
      "3      Fábio       Ferreira Vieira             1        3            21   \n",
      "4    Gabriel  dos Santos Magalhães             2        1            76   \n",
      "\n",
      "   minutes  goals_conceded  creativity  influence  threat  ...  bps  \\\n",
      "0        0               0         0.0        0.0     0.0  ...    0   \n",
      "1        0               0         0.0        0.0     0.0  ...    0   \n",
      "2        1               0         0.5        1.8     2.0  ...   12   \n",
      "3      236               2        63.6       79.4    77.0  ...   62   \n",
      "4     1724              19        88.7      397.8   169.0  ...  352   \n",
      "\n",
      "   ict_index  clean_sheets  red_cards  yellow_cards  selected_by_percent  \\\n",
      "0        0.0             0          0             0                  0.2   \n",
      "1        0.0             0          0             0                  0.4   \n",
      "2        0.4             0          0             0                  0.1   \n",
      "3       21.9             1          1             0                  0.1   \n",
      "4       65.7             6          0             2                 18.6   \n",
      "\n",
      "   now_cost  element_type points_per_cost_per_minute  \\\n",
      "0        44           FWD                   0.000000   \n",
      "1        39           DEF                   0.000000   \n",
      "2        44           MID                   0.090909   \n",
      "3        54           MID                  91.777778   \n",
      "4        50           DEF                2620.480000   \n",
      "\n",
      "                           name  \n",
      "0               Folarin Balogun  \n",
      "1           Cédric Alves Soares  \n",
      "2                Mohamed Elneny  \n",
      "3         Fábio Ferreira Vieira  \n",
      "4  Gabriel dos Santos Magalhães  \n",
      "\n",
      "[5 rows x 21 columns]\n",
      "Index(['first_name', 'second_name', 'goals_scored', 'assists', 'total_points',\n",
      "       'minutes', 'goals_conceded', 'creativity', 'influence', 'threat',\n",
      "       'bonus', 'bps', 'ict_index', 'clean_sheets', 'red_cards',\n",
      "       'yellow_cards', 'selected_by_percent', 'now_cost', 'element_type',\n",
      "       'points_per_cost_per_minute', 'name'],\n",
      "      dtype='object')\n"
     ]
    },
    {
     "data": {
      "application/vnd.plotly.v1+json": {
       "config": {
        "plotlyServerURL": "https://plot.ly"
       },
       "data": [
        {
         "customdata": [
          [
           0
          ],
          [
           859.1625
          ],
          [
           1223.75
          ],
          [
           0
          ],
          [
           83.52000000000001
          ],
          [
           3366.2954545454545
          ],
          [
           0
          ],
          [
           30.434782608695652
          ],
          [
           1061.111111111111
          ],
          [
           3031.9718309859154
          ],
          [
           0
          ],
          [
           0
          ],
          [
           66.66666666666667
          ],
          [
           1790.982142857143
          ],
          [
           1266.6938775510203
          ],
          [
           0
          ],
          [
           1151.6379310344828
          ],
          [
           2128.7962962962965
          ],
          [
           0
          ],
          [
           514.6666666666666
          ],
          [
           0
          ],
          [
           0
          ],
          [
           1250.212765957447
          ],
          [
           0.7755102040816326
          ],
          [
           432.7358490566038
          ],
          [
           0
          ],
          [
           17.400000000000002
          ],
          [
           1957.5849056603772
          ],
          [
           0
          ],
          [
           0
          ],
          [
           1454.2941176470588
          ],
          [
           56.51351351351351
          ],
          [
           0.35555555555555557
          ],
          [
           0.2
          ],
          [
           0
          ],
          [
           1416.5555555555554
          ],
          [
           1251.142857142857
          ],
          [
           0
          ],
          [
           0
          ],
          [
           0
          ],
          [
           1209.4137931034484
          ],
          [
           0
          ],
          [
           8.166666666666668
          ],
          [
           0.022222222222222223
          ],
          [
           249.05263157894737
          ],
          [
           236.73469387755102
          ],
          [
           0.43243243243243246
          ],
          [
           200
          ],
          [
           149.6
          ],
          [
           1336.1764705882354
          ],
          [
           0
          ],
          [
           1609.0540540540542
          ],
          [
           606.6666666666667
          ],
          [
           1620.9183673469388
          ],
          [
           0
          ],
          [
           2447.56
          ],
          [
           0
          ],
          [
           1330.1632653061224
          ],
          [
           0
          ],
          [
           0
          ],
          [
           19.534883720930235
          ],
          [
           806.2653061224489
          ],
          [
           3064.782608695652
          ],
          [
           1161.718309859155
          ],
          [
           171.484375
          ],
          [
           0
          ],
          [
           1101.3333333333335
          ],
          [
           0
          ],
          [
           1224.5
          ],
          [
           549.2307692307693
          ],
          [
           0.5333333333333333
          ],
          [
           0.022727272727272728
          ],
          [
           621.4444444444445
          ],
          [
           0
          ],
          [
           0
          ],
          [
           0
          ],
          [
           1320.9183673469388
          ],
          [
           28.159999999999997
          ],
          [
           0
          ],
          [
           0
          ],
          [
           0.022222222222222223
          ],
          [
           1878.3953488372092
          ],
          [
           20.408163265306122
          ],
          [
           0
          ],
          [
           581.4814814814815
          ],
          [
           0
          ],
          [
           264.5581395348837
          ],
          [
           82.6078431372549
          ],
          [
           0
          ],
          [
           0.5
          ],
          [
           0
          ],
          [
           0
          ],
          [
           9.166666666666668
          ],
          [
           0.13333333333333333
          ],
          [
           46.892307692307696
          ],
          [
           541.3333333333334
          ],
          [
           91.5
          ],
          [
           8.928571428571427
          ],
          [
           0
          ],
          [
           0
          ],
          [
           39.84615384615385
          ],
          [
           77.38775510204081
          ],
          [
           3647.3859649122805
          ],
          [
           0.17777777777777778
          ]
         ],
         "hovertemplate": "<b>%{hovertext}</b><br><br>element_type=FWD<br>total_points=%{x}<br>minutes=%{y}<br>now_cost=%{marker.size}<br>points_per_cost_per_minute=%{customdata[0]}<extra></extra>",
         "hovertext": [
          "Folarin Balogun",
          "Gabriel Fernando de Jesus",
          "Eddie Nketiah",
          "Keinan Davis",
          "Jhon Durán",
          "Ollie Watkins",
          "Wesley Moraes Ferreira da Silva",
          "Kieffer Moore",
          "Antoine Semenyo",
          "Dominic Solanke",
          "Enes Ünal",
          "Halil Dervişoğlu",
          "Ivan Toney",
          "Yoane Wissa",
          "Neal Maupay",
          "Aaron Connolly",
          "Evan Ferguson",
          "João Pedro Junqueira de Jesus",
          "Deniz Undav",
          "Danny Welbeck",
          "Andi Zeqiri",
          "Mark O’Mahony",
          "Lyle Foster",
          "Michael Obafemi",
          "Jay Rodriguez",
          "Wout Weghorst",
          "David Datro Fofana",
          "Zeki Amdouni",
          "Pierre-Emerick Aubameyang",
          "Romelu Lukaku Bolingoli",
          "Nicolas Jackson",
          "Christopher Nkunku",
          "Mason Burstow",
          "Deivid Washington de Souza Eugênio",
          "Ronnie Stutter",
          "Odsonne Edouard",
          "Jean-Philippe Mateta",
          "Luke Plange",
          "John-Kymani Gordon",
          "Ademola Ola-Adebomi",
          "Dominic Calvert-Lewin",
          "Ellis Simms",
          "Youssef Ramalho Chermiti",
          "Thomas Cannon",
          "Norberto Bercique Gomes Betuncal",
          "Armando Broja",
          "Aleksandar Mitrović",
          "Rodrigo Muniz Carvalho",
          "Carlos Vinícius Alves Morais",
          "Raúl Jiménez",
          "Jay Stansfield",
          "Darwin Núñez Ribeiro",
          "Cody Gakpo",
          "Elijah Adebayo",
          "John McAtee",
          "Carlton Morris",
          "Admiral Muskwe",
          "Chiedozie Ogbene",
          "Aribim Pepple",
          "Joe Taylor",
          "Cauley Woodrow",
          "Jacob Brown",
          "Julián Álvarez",
          "Erling Haaland",
          "Anthony Martial",
          "Shola Shoretire",
          "Rasmus Højlund",
          "Joe Hugill",
          "Alexander Isak",
          "Callum Wilson",
          "Ben Parkinson",
          "Michael Ndiweni",
          "Taiwo Awoniyi",
          "Emmanuel Dennis",
          "Sam Surridge",
          "Hwang Ui-jo",
          "Chris Wood",
          "Divock Origi",
          "Detlef Esapa Osong",
          "Joe Gardner",
          "Rodrigo Duarte Ribeiro",
          "Cameron Archer",
          "Rhian Brewster",
          "Daniel Jebbison",
          "Oliver McBurnie",
          "Iliman Ndiaye",
          "William Osula",
          "Bénie Traoré",
          "Louie Marsh",
          "Antwoine Hackford",
          "Harry Kane",
          "Dane Scarlett",
          "Alejo Véliz",
          "Jamie Donley",
          "Timo Werner",
          "Michail Antonio",
          "Danny Ings",
          "Divin Mubama",
          "Gianluca Scamacca",
          "Callum Marshall",
          "Fábio Silva",
          "Sasa Kalajdzic",
          "Matheus Santos Carneiro Da Cunha",
          "Nathan Fraser"
         ],
         "legendgroup": "FWD",
         "marker": {
          "color": "#636efa",
          "size": [
           44,
           80,
           52,
           49,
           50,
           88,
           50,
           46,
           45,
           71,
           50,
           45,
           81,
           56,
           49,
           45,
           58,
           54,
           55,
           57,
           44,
           45,
           47,
           49,
           53,
           55,
           50,
           53,
           65,
           68,
           68,
           74,
           45,
           45,
           45,
           54,
           49,
           45,
           45,
           45,
           58,
           45,
           48,
           45,
           57,
           49,
           74,
           44,
           45,
           51,
           45,
           74,
           72,
           49,
           45,
           50,
           45,
           49,
           45,
           45,
           43,
           49,
           69,
           142,
           64,
           44,
           69,
           45,
           76,
           78,
           45,
           44,
           63,
           48,
           45,
           44,
           49,
           50,
           45,
           45,
           45,
           43,
           49,
           48,
           54,
           55,
           43,
           51,
           45,
           44,
           125,
           45,
           54,
           45,
           65,
           57,
           56,
           42,
           60,
           45,
           52,
           49,
           57,
           45
          ],
          "sizemode": "area",
          "sizeref": 0.355,
          "symbol": "circle"
         },
         "mode": "markers",
         "name": "FWD",
         "orientation": "v",
         "showlegend": true,
         "type": "scatter",
         "x": [
          0,
          63,
          65,
          0,
          24,
          146,
          0,
          14,
          50,
          110,
          0,
          0,
          20,
          65,
          59,
          0,
          61,
          83,
          0,
          38,
          0,
          0,
          52,
          2,
          33,
          0,
          15,
          66,
          0,
          0,
          67,
          17,
          2,
          1,
          0,
          61,
          58,
          0,
          0,
          0,
          54,
          0,
          7,
          1,
          26,
          25,
          1,
          20,
          22,
          55,
          0,
          90,
          48,
          75,
          0,
          86,
          0,
          51,
          0,
          0,
          10,
          39,
          114,
          118,
          25,
          0,
          59,
          0,
          79,
          56,
          1,
          1,
          49,
          0,
          0,
          0,
          75,
          8,
          0,
          0,
          1,
          59,
          5,
          0,
          40,
          0,
          18,
          11,
          0,
          2,
          0,
          0,
          11,
          2,
          12,
          38,
          21,
          5,
          0,
          0,
          8,
          24,
          107,
          1
         ],
         "xaxis": "x",
         "y": [
          0,
          1091,
          979,
          0,
          174,
          2029,
          0,
          100,
          955,
          1957,
          0,
          0,
          270,
          1543,
          1052,
          0,
          1095,
          1385,
          0,
          772,
          0,
          0,
          1130,
          19,
          695,
          0,
          58,
          1572,
          0,
          0,
          1476,
          246,
          8,
          9,
          0,
          1254,
          1057,
          0,
          0,
          0,
          1299,
          0,
          56,
          1,
          546,
          464,
          32,
          440,
          306,
          1239,
          0,
          1323,
          910,
          1059,
          0,
          1423,
          0,
          1278,
          0,
          0,
          84,
          1013,
          1855,
          1398,
          439,
          0,
          1288,
          0,
          1178,
          765,
          24,
          1,
          799,
          0,
          0,
          0,
          863,
          176,
          0,
          0,
          1,
          1369,
          200,
          0,
          785,
          0,
          632,
          383,
          0,
          11,
          0,
          0,
          45,
          3,
          254,
          812,
          244,
          75,
          0,
          0,
          259,
          158,
          1943,
          8
         ],
         "yaxis": "y"
        },
        {
         "hovertemplate": "<b>OLS trendline</b><br>minutes = 16.7419 * total_points + 25.2695<br>R<sup>2</sup>=0.921763<br><br>element_type=FWD<br>total_points=%{x}<br>minutes=%{y} <b>(trend)</b><extra></extra>",
         "legendgroup": "FWD",
         "marker": {
          "color": "#636efa",
          "symbol": "circle"
         },
         "mode": "lines",
         "name": "FWD",
         "showlegend": false,
         "type": "scatter",
         "x": [
          0,
          0,
          0,
          0,
          0,
          0,
          0,
          0,
          0,
          0,
          0,
          0,
          0,
          0,
          0,
          0,
          0,
          0,
          0,
          0,
          0,
          0,
          0,
          0,
          0,
          0,
          0,
          0,
          0,
          0,
          0,
          0,
          0,
          0,
          0,
          0,
          1,
          1,
          1,
          1,
          1,
          1,
          1,
          2,
          2,
          2,
          2,
          5,
          5,
          7,
          8,
          8,
          10,
          11,
          11,
          12,
          14,
          15,
          17,
          18,
          20,
          20,
          21,
          22,
          24,
          24,
          25,
          25,
          26,
          33,
          38,
          38,
          39,
          40,
          48,
          49,
          50,
          51,
          52,
          54,
          55,
          56,
          58,
          59,
          59,
          59,
          61,
          61,
          63,
          65,
          65,
          66,
          67,
          75,
          75,
          79,
          83,
          86,
          90,
          107,
          110,
          114,
          118,
          146
         ],
         "xaxis": "x",
         "y": [
          25.26947584984162,
          25.26947584984162,
          25.26947584984162,
          25.26947584984162,
          25.26947584984162,
          25.26947584984162,
          25.26947584984162,
          25.26947584984162,
          25.26947584984162,
          25.26947584984162,
          25.26947584984162,
          25.26947584984162,
          25.26947584984162,
          25.26947584984162,
          25.26947584984162,
          25.26947584984162,
          25.26947584984162,
          25.26947584984162,
          25.26947584984162,
          25.26947584984162,
          25.26947584984162,
          25.26947584984162,
          25.26947584984162,
          25.26947584984162,
          25.26947584984162,
          25.26947584984162,
          25.26947584984162,
          25.26947584984162,
          25.26947584984162,
          25.26947584984162,
          25.26947584984162,
          25.26947584984162,
          25.26947584984162,
          25.26947584984162,
          25.26947584984162,
          25.26947584984162,
          42.011413811633886,
          42.011413811633886,
          42.011413811633886,
          42.011413811633886,
          42.011413811633886,
          42.011413811633886,
          42.011413811633886,
          58.75335177342615,
          58.75335177342615,
          58.75335177342615,
          58.75335177342615,
          108.97916565880294,
          108.97916565880294,
          142.46304158238746,
          159.20497954417974,
          159.20497954417974,
          192.68885546776426,
          209.43079342955653,
          209.43079342955653,
          226.1727313913488,
          259.6566073149333,
          276.39854527672554,
          309.8824212003101,
          326.6243591621024,
          360.1082350856869,
          360.1082350856869,
          376.8501730474792,
          393.59211100927143,
          427.075986932856,
          427.075986932856,
          443.81792489464823,
          443.81792489464823,
          460.5598628564405,
          577.7534285889863,
          661.4631183979476,
          661.4631183979476,
          678.2050563597398,
          694.9469943215321,
          828.8824980158703,
          845.6244359776625,
          862.3663739394548,
          879.108311901247,
          895.8502498630393,
          929.3341257866238,
          946.0760637484161,
          962.8180017102084,
          996.3018776337929,
          1013.0438155955851,
          1013.0438155955851,
          1013.0438155955851,
          1046.5276915191698,
          1046.5276915191698,
          1080.0115674427543,
          1113.4954433663388,
          1113.4954433663388,
          1130.237381328131,
          1146.9793192899233,
          1280.9148229842615,
          1280.9148229842615,
          1347.8825748314305,
          1414.8503266785995,
          1465.0761405639764,
          1532.0438924111454,
          1816.6568377616138,
          1866.8826516469908,
          1933.8504034941598,
          2000.8181553413287,
          2469.592418271512
         ],
         "yaxis": "y"
        },
        {
         "customdata": [
          [
           0
          ],
          [
           2620.48
          ],
          [
           145.25581395348837
          ],
          [
           3105
          ],
          [
           0
          ],
          [
           544.2666666666667
          ],
          [
           2430.5357142857147
          ],
          [
           2332.596153846154
          ],
          [
           0
          ],
          [
           0
          ],
          [
           367.156862745098
          ],
          [
           1611.891304347826
          ],
          [
           0
          ],
          [
           896.409090909091
          ],
          [
           1851.6521739130435
          ],
          [
           0
          ],
          [
           2560.0869565217395
          ],
          [
           0
          ],
          [
           2011.6739130434783
          ],
          [
           227.11111111111111
          ],
          [
           0
          ],
          [
           0
          ],
          [
           3.4499999999999997
          ],
          [
           466.6666666666667
          ],
          [
           24.651162790697676
          ],
          [
           1815.8888888888891
          ],
          [
           773.6363636363636
          ],
          [
           2070
          ],
          [
           884.25
          ],
          [
           0
          ],
          [
           566.6363636363636
          ],
          [
           0
          ],
          [
           424.4318181818182
          ],
          [
           0
          ],
          [
           1417.7777777777778
          ],
          [
           0
          ],
          [
           121.23255813953489
          ],
          [
           275.47727272727275
          ],
          [
           608.375
          ],
          [
           2281.304347826087
          ],
          [
           660.6818181818181
          ],
          [
           17.3953488372093
          ],
          [
           228.63636363636363
          ],
          [
           0
          ],
          [
           0
          ],
          [
           0
          ],
          [
           1281.36
          ],
          [
           681.8823529411765
          ],
          [
           0
          ],
          [
           131.2820512820513
          ],
          [
           1357.9
          ],
          [
           422.3255813953488
          ],
          [
           165.26190476190476
          ],
          [
           286.1860465116279
          ],
          [
           0
          ],
          [
           0
          ],
          [
           527.5
          ],
          [
           925.5
          ],
          [
           0
          ],
          [
           41.66666666666667
          ],
          [
           0
          ],
          [
           1318.0681818181818
          ],
          [
           228
          ],
          [
           1224
          ],
          [
           0
          ],
          [
           955.2272727272727
          ],
          [
           0
          ],
          [
           57.3
          ],
          [
           8.9
          ],
          [
           1.125
          ],
          [
           0
          ],
          [
           0
          ],
          [
           0
          ],
          [
           228.6818181818182
          ],
          [
           0
          ],
          [
           131.11111111111111
          ],
          [
           2072.7021276595747
          ],
          [
           146.45833333333331
          ],
          [
           0
          ],
          [
           940.6428571428571
          ],
          [
           65.54716981132076
          ],
          [
           0
          ],
          [
           2460.16
          ],
          [
           2018.3265306122448
          ],
          [
           0
          ],
          [
           1.2
          ],
          [
           0
          ],
          [
           0
          ],
          [
           3148.125
          ],
          [
           292.90909090909093
          ],
          [
           2521.6818181818185
          ],
          [
           2598.065217391304
          ],
          [
           0
          ],
          [
           337
          ],
          [
           0.1
          ],
          [
           1065.6
          ],
          [
           0
          ],
          [
           -2
          ],
          [
           2809.7560975609754
          ],
          [
           63
          ],
          [
           71.16279069767441
          ],
          [
           168.69767441860466
          ],
          [
           2741.8695652173915
          ],
          [
           737.1818181818182
          ],
          [
           3510
          ],
          [
           1026
          ],
          [
           0
          ],
          [
           744.909090909091
          ],
          [
           0
          ],
          [
           0
          ],
          [
           998.4000000000001
          ],
          [
           2541.4545454545455
          ],
          [
           350.22727272727275
          ],
          [
           679.8139534883721
          ],
          [
           557.5
          ],
          [
           0
          ],
          [
           1683
          ],
          [
           3.2
          ],
          [
           0
          ],
          [
           1836.7411764705882
          ],
          [
           1423.8888888888887
          ],
          [
           960.5714285714286
          ],
          [
           340.8125
          ],
          [
           0
          ],
          [
           326.109375
          ],
          [
           662
          ],
          [
           0
          ],
          [
           2320
          ],
          [
           78.30000000000001
          ],
          [
           0
          ],
          [
           0
          ],
          [
           105.39024390243902
          ],
          [
           0.15555555555555556
          ],
          [
           152.6923076923077
          ],
          [
           1111.5384615384614
          ],
          [
           348
          ],
          [
           2516.7999999999997
          ],
          [
           808.2727272727273
          ],
          [
           0
          ],
          [
           940.5128205128206
          ],
          [
           130.42857142857144
          ],
          [
           640.1666666666667
          ],
          [
           654.375
          ],
          [
           0
          ],
          [
           0
          ],
          [
           0
          ],
          [
           1261
          ],
          [
           1504.5
          ],
          [
           0
          ],
          [
           1047.3272727272727
          ],
          [
           0.22448979591836737
          ],
          [
           336.37209302325584
          ],
          [
           2.8421052631578947
          ],
          [
           198.11320754716982
          ],
          [
           2274.3454545454547
          ],
          [
           1349.3333333333333
          ],
          [
           0
          ],
          [
           0
          ],
          [
           0
          ],
          [
           2360.470588235294
          ],
          [
           0
          ],
          [
           860
          ],
          [
           952.1428571428572
          ],
          [
           0
          ],
          [
           142.2127659574468
          ],
          [
           511.81632653061223
          ],
          [
           501.9230769230769
          ],
          [
           581.3181818181818
          ],
          [
           749.7
          ],
          [
           4.3076923076923075
          ],
          [
           0
          ],
          [
           16.930232558139537
          ],
          [
           0
          ],
          [
           880.1333333333333
          ],
          [
           1997.9545454545455
          ],
          [
           20.75
          ],
          [
           1120.3902439024391
          ],
          [
           0
          ],
          [
           0
          ],
          [
           2782.679245283019
          ],
          [
           3.666666666666667
          ],
          [
           2763
          ],
          [
           0
          ],
          [
           0.10256410256410256
          ],
          [
           491.33333333333337
          ],
          [
           0.07692307692307693
          ],
          [
           20.474999999999998
          ],
          [
           498.6
          ],
          [
           0
          ],
          [
           817.2888888888889
          ],
          [
           0
          ],
          [
           0
          ],
          [
           3
          ],
          [
           0
          ],
          [
           0
          ],
          [
           113.45454545454545
          ],
          [
           390.79999999999995
          ],
          [
           0
          ],
          [
           0
          ],
          [
           940.2045454545455
          ],
          [
           297.90697674418607
          ],
          [
           132.4186046511628
          ],
          [
           745.7333333333333
          ],
          [
           0
          ],
          [
           225
          ],
          [
           1134.8444444444444
          ],
          [
           18
          ],
          [
           702.025641025641
          ],
          [
           0
          ],
          [
           725.2325581395348
          ],
          [
           416.5
          ],
          [
           64.82051282051282
          ],
          [
           1090.4666666666667
          ],
          [
           11.209302325581396
          ],
          [
           43.25581395348837
          ],
          [
           2.692307692307692
          ],
          [
           869.767441860465
          ],
          [
           33.02325581395349
          ],
          [
           0
          ],
          [
           160.3
          ],
          [
           0
          ],
          [
           605.6279069767442
          ],
          [
           9.476190476190476
          ],
          [
           416.13953488372096
          ],
          [
           2848.220338983051
          ],
          [
           12.51063829787234
          ],
          [
           0
          ],
          [
           1910.2040816326532
          ],
          [
           0
          ],
          [
           0
          ],
          [
           0
          ],
          [
           0
          ],
          [
           2172.5833333333335
          ],
          [
           1268.1363636363637
          ],
          [
           0
          ],
          [
           0
          ],
          [
           0.5454545454545454
          ],
          [
           1163.7272727272727
          ],
          [
           2475.804347826087
          ],
          [
           6.19047619047619
          ],
          [
           2494
          ],
          [
           66.13636363636364
          ],
          [
           0.9047619047619047
          ],
          [
           1795.2
          ],
          [
           125.72093023255815
          ],
          [
           465.68888888888887
          ],
          [
           0
          ],
          [
           0
          ],
          [
           901.6888888888889
          ],
          [
           0
          ],
          [
           178.1818181818182
          ],
          [
           2383.1555555555556
          ],
          [
           0
          ],
          [
           0.09302325581395349
          ],
          [
           2760
          ],
          [
           1947.3333333333333
          ],
          [
           1753.409090909091
          ],
          [
           351
          ],
          [
           17.77777777777778
          ],
          [
           0
          ],
          [
           0
          ]
         ],
         "hovertemplate": "<b>%{hovertext}</b><br><br>element_type=DEF<br>total_points=%{x}<br>minutes=%{y}<br>now_cost=%{marker.size}<br>points_per_cost_per_minute=%{customdata[0]}<extra></extra>",
         "hovertext": [
          "Cédric Alves Soares",
          "Gabriel dos Santos Magalhães",
          "Jakub Kiwior",
          "William Saliba",
          "Kieran Tierney",
          "Takehiro Tomiyasu",
          "Benjamin White",
          "Oleksandr Zinchenko",
          "Jurriën Timber",
          "Reuell Walters",
          "Alexandre Moreno Lopera",
          "Matty Cash",
          "Calum Chambers",
          "Diego Carlos Santos Silva",
          "Lucas Digne",
          "Kortney Hause",
          "Ezri Konsa Ngoyo",
          "Tyrone Mings",
          "Pau Torres",
          "Clément Lenglet",
          "Kaine Kesler-Hayden",
          "Ryan Fredericks",
          "James Hill",
          "Lloyd Kelly",
          "Chris Mepham",
          "Marcos Senesi",
          "Adam Smith",
          "Illia Zabarnyi",
          "Milos Kerkez",
          "Ben Greenwood",
          "Max Aarons",
          "Max Kinsey-Wellings",
          "Kristoffer Ajer",
          "Mads Bech Sørensen",
          "Nathan Collins",
          "Charlie Goode",
          "Rico Henry",
          "Aaron Hickey",
          "Ben Mee",
          "Ethan Pinnock",
          "Mads Roerslev Rasmussen",
          "Mathias Jorgensen",
          "Sergio Reguilón",
          "Ji-Soo Kim",
          "Valintino Adedokun",
          "Benjamin Fredrick",
          "Lewis Dunk",
          "Pervis Estupiñán",
          "Michał Karbownik",
          "Tariq Lamptey",
          "Jan Paul van Hecke",
          "Joël Veltman",
          "Adam Webster",
          "Igor Julio dos Santos de Paulo",
          "Ben Jackson",
          "Leigh Kavanagh",
          "Ameen Al-Dakhil",
          "Jordan Beyer",
          "CJ Egan-Riley",
          "Hjalmar Ekdal",
          "Luke McNally",
          "Dara O'Shea",
          "Connor Roberts",
          "Charlie Taylor",
          "Bobby Thomas",
          "Victor da Silva",
          "Owen Dodgson",
          "Hannes Delcroix",
          "Lorenz Assignon",
          "Maxime Esteve",
          "Ethan Ampadu",
          "César Azpilicueta",
          "Abdul Rahman Baba",
          "Benoît Badiashile",
          "Trevoh Chalobah",
          "Ben Chilwell",
          "Levi Colwill",
          "Marc Cucurella Saseta",
          "Wesley Fofana",
          "Malo Gusto",
          "Reece James",
          "Malang Sarr",
          "Thiago Emiliano da Silva",
          "Axel Disasi",
          "Bashir Humphreys",
          "Alfie Gilchrist",
          "Josh Brooking",
          "Rob Holding",
          "Joachim Andersen",
          "Nathaniel Clyne",
          "Marc Guéhi",
          "Tyrick Mitchell",
          "Jake O'Brien",
          "Chris Richards",
          "James Tomkins",
          "Joel Ward",
          "Tayo Adaramola",
          "Daniel Muñoz",
          "Jarrad Branthwaite",
          "Seamus Coleman",
          "Ben Godfrey",
          "Michael Keane",
          "Vitalii Mykolenko",
          "Nathan Patterson",
          "James Tarkowski",
          "Ashley Young",
          "Elijah Campbell",
          "Issa Diop",
          "Terence Kongolo",
          "Kevin Mbabu",
          "Tim Ream",
          "Antonee Robinson",
          "Kenny Tete",
          "Tosin Adarabioyo",
          "Calvin Bassey",
          "Luc De Fougerolles",
          "Timothy Castagne",
          "Fodé Ballo-Touré",
          "Devan Tanton",
          "Trent Alexander-Arnold",
          "Joe Gomez",
          "Ibrahima Konaté",
          "Joel Matip",
          "Nathaniel Phillips",
          "Andrew Robertson",
          "Konstantinos Tsimikas",
          "Sepp van den Berg",
          "Virgil van Dijk",
          "Jarell Quansah",
          "Luke Chambers",
          "Callum Scanlon",
          "Conor Bradley",
          "Owen Beck",
          "Mads Juel Andersen",
          "Amari'i Bell",
          "Reece Burke",
          "Alfie Doughty",
          "Gabriel Osho",
          "Dan Potts",
          "Teden Mengi",
          "Ryan Giles",
          "Tom Lockyer",
          "Issa Kaboré",
          "Aidan Francis-Clarke",
          "Joseph Johnson",
          "Daiki Hashioka",
          "Manuel Akanji",
          "Nathan Aké",
          "João Cancelo",
          "Rúben Gato Alves Dias",
          "Aymeric Laporte",
          "Rico Lewis",
          "Sergio Gómez",
          "John Stones",
          "Kyle Walker",
          "Joško Gvardiol",
          "Alex Telles",
          "Brandon Williams",
          "Eric Bailly",
          "Diogo Dalot Teixeira",
          "Álvaro Fernández Carreras",
          "Victor Lindelöf",
          "Harry Maguire",
          "Tyrell Malacia",
          "Lisandro Martínez",
          "Raphaël Varane",
          "Luke Shaw",
          "Aaron Wan-Bissaka",
          "Jonny Evans",
          "Willy Kambwala",
          "Rhys Bennett",
          "Lewis Hall",
          "Harrison Ashby",
          "Sven Botman",
          "Dan Burn",
          "Emil Krafth",
          "Jamaal Lascelles",
          "Jamal Lewis",
          "Javier Manquillo Gaitán",
          "Fabian Schär",
          "Matt Targett",
          "Kieran Trippier",
          "Kell Watts",
          "Paul Dummett",
          "Tino Livramento",
          "Alex Murphy",
          "Nuno Varela Tavares",
          "Serge Aurier",
          "Giulian Biancone",
          "Willy Boly",
          "Steve Cook",
          "Mohamed Dräger",
          "Felipe Augusto de Almeida Monteiro",
          "Richie Laryea",
          "Loïc Mbe Soh",
          "Scott McKenna",
          "Moussa Niakhaté",
          "Jonathan Panzo",
          "Omar Richards",
          "Harry Toffolo",
          "Neco Williams",
          "Joe Worrall",
          "Olu Aina",
          "Josh Powell",
          "Gonzalo Montiel",
          "Murillo Santiago Costa dos Santos",
          "Andrew Omobamidele",
          "Auston Trusty",
          "Mason Holgate",
          "Anel Ahmedhodžić",
          "George Baldock",
          "Chris Basham",
          "Jayden Bogle",
          "John Egan",
          "Max Lowe",
          "Rhys Norrington-Davies",
          "Jack Robinson",
          "Yasser Larouci",
          "Femi Seriki",
          "Luke Thomas",
          "Jili Buyabu",
          "Ben Davies",
          "Eric Dier",
          "Emerson Leite de Souza Junior",
          "Pedro Porro",
          "Ivan Perišić",
          "Joe Rodon",
          "Cristian Romero",
          "Davinson Sánchez",
          "Ryan Sessegnon",
          "Djed Spence",
          "Japhet Tanganga",
          "Destiny Udogie",
          "Micky van de Ven",
          "Ashley Phillips",
          "Alfie Dorrington",
          "Radu Dragusin",
          "Nayef Aguerd",
          "Vladimír Coufal",
          "Aaron Cresswell",
          "Emerson Palmieri dos Santos",
          "Ben Johnson",
          "Thilo Kehrer",
          "Kurt Zouma",
          "Angelo Ogbonna",
          "Konstantinos Mavropanos",
          "Kaelan Casey",
          "Oliver Scarles",
          "Rayan Aït-Nouri",
          "Bendegúz Bolla",
          "Hugo Bueno López",
          "Craig Dawson",
          "Ki-Jana Hoever",
          "Jonathan Castro Otto",
          "Max Kilman",
          "Nélson Cabral Semedo",
          "Toti António Gomes",
          "Matt Doherty",
          "Santiago Bueno",
          "Justin Hubner",
          "Yerson Mosquera"
         ],
         "legendgroup": "DEF",
         "marker": {
          "color": "#EF553B",
          "size": [
           39,
           50,
           43,
           56,
           44,
           45,
           56,
           52,
           46,
           40,
           51,
           46,
           38,
           44,
           46,
           39,
           46,
           41,
           46,
           45,
           40,
           43,
           40,
           45,
           43,
           45,
           44,
           44,
           44,
           40,
           44,
           40,
           44,
           40,
           45,
           39,
           43,
           44,
           48,
           46,
           44,
           43,
           44,
           40,
           40,
           40,
           50,
           51,
           40,
           39,
           40,
           43,
           42,
           43,
           40,
           40,
           38,
           40,
           39,
           39,
           40,
           44,
           43,
           40,
           40,
           44,
           40,
           40,
           40,
           40,
           40,
           45,
           40,
           44,
           43,
           54,
           47,
           48,
           44,
           42,
           53,
           43,
           50,
           49,
           40,
           40,
           40,
           43,
           48,
           44,
           44,
           46,
           40,
           39,
           40,
           45,
           40,
           45,
           41,
           44,
           43,
           43,
           46,
           44,
           46,
           44,
           40,
           44,
           40,
           40,
           45,
           44,
           44,
           43,
           44,
           39,
           45,
           45,
           40,
           85,
           45,
           49,
           48,
           40,
           64,
           45,
           40,
           63,
           40,
           40,
           39,
           41,
           45,
           39,
           39,
           40,
           45,
           44,
           39,
           39,
           42,
           42,
           40,
           40,
           40,
           40,
           49,
           50,
           58,
           55,
           49,
           43,
           38,
           53,
           55,
           48,
           45,
           40,
           40,
           51,
           40,
           45,
           42,
           43,
           47,
           49,
           52,
           44,
           40,
           39,
           40,
           43,
           40,
           45,
           44,
           44,
           41,
           40,
           40,
           53,
           42,
           68,
           40,
           39,
           42,
           39,
           40,
           45,
           39,
           45,
           45,
           40,
           44,
           45,
           40,
           44,
           45,
           40,
           44,
           44,
           43,
           43,
           45,
           39,
           44,
           45,
           45,
           39,
           40,
           43,
           38,
           39,
           45,
           43,
           43,
           39,
           43,
           43,
           39,
           40,
           40,
           43,
           42,
           43,
           59,
           47,
           40,
           49,
           44,
           44,
           40,
           40,
           48,
           44,
           40,
           40,
           44,
           44,
           46,
           42,
           45,
           44,
           42,
           45,
           43,
           45,
           40,
           40,
           45,
           40,
           44,
           45,
           40,
           43,
           45,
           45,
           44,
           43,
           45,
           40,
           40
          ],
          "sizemode": "area",
          "sizeref": 0.355,
          "symbol": "circle"
         },
         "mode": "markers",
         "name": "DEF",
         "orientation": "v",
         "showlegend": true,
         "type": "scatter",
         "x": [
          0,
          76,
          18,
          84,
          0,
          39,
          78,
          85,
          0,
          0,
          35,
          53,
          0,
          37,
          56,
          0,
          59,
          0,
          61,
          20,
          0,
          0,
          2,
          24,
          4,
          59,
          37,
          46,
          33,
          0,
          23,
          0,
          25,
          0,
          44,
          0,
          13,
          17,
          31,
          53,
          30,
          4,
          20,
          0,
          0,
          0,
          38,
          46,
          0,
          16,
          37,
          20,
          11,
          14,
          0,
          0,
          19,
          30,
          0,
          5,
          0,
          35,
          12,
          34,
          0,
          30,
          0,
          6,
          4,
          1,
          0,
          0,
          0,
          18,
          0,
          15,
          61,
          10,
          0,
          39,
          9,
          0,
          64,
          53,
          0,
          4,
          0,
          0,
          73,
          18,
          58,
          63,
          0,
          13,
          1,
          36,
          0,
          -1,
          64,
          14,
          12,
          18,
          78,
          34,
          78,
          33,
          0,
          34,
          0,
          0,
          36,
          58,
          23,
          36,
          22,
          0,
          51,
          3,
          0,
          99,
          55,
          41,
          21,
          0,
          27,
          45,
          0,
          80,
          12,
          0,
          0,
          29,
          1,
          15,
          30,
          20,
          72,
          34,
          0,
          28,
          11,
          23,
          25,
          0,
          0,
          0,
          49,
          59,
          0,
          39,
          1,
          32,
          6,
          21,
          67,
          44,
          0,
          0,
          0,
          66,
          0,
          43,
          43,
          0,
          12,
          31,
          30,
          29,
          34,
          2,
          0,
          7,
          0,
          42,
          59,
          11,
          44,
          0,
          0,
          74,
          2,
          102,
          0,
          1,
          28,
          1,
          3,
          27,
          0,
          37,
          0,
          0,
          1,
          0,
          0,
          12,
          18,
          0,
          0,
          41,
          21,
          13,
          34,
          0,
          20,
          34,
          3,
          19,
          0,
          21,
          19,
          8,
          33,
          1,
          6,
          1,
          20,
          5,
          0,
          7,
          0,
          29,
          2,
          23,
          85,
          6,
          0,
          65,
          0,
          0,
          0,
          0,
          62,
          46,
          0,
          0,
          3,
          34,
          61,
          2,
          58,
          10,
          2,
          48,
          17,
          31,
          0,
          0,
          32,
          0,
          20,
          58,
          0,
          1,
          60,
          46,
          50,
          27,
          4,
          0,
          0
         ],
         "xaxis": "x",
         "y": [
          0,
          1724,
          347,
          2070,
          0,
          628,
          1745,
          1427,
          49,
          0,
          535,
          1399,
          0,
          1066,
          1521,
          0,
          1996,
          30,
          1517,
          511,
          0,
          0,
          69,
          875,
          265,
          1385,
          920,
          1980,
          1179,
          0,
          1084,
          0,
          747,
          0,
          1450,
          0,
          401,
          713,
          942,
          1980,
          969,
          187,
          503,
          0,
          0,
          0,
          1686,
          756,
          0,
          320,
          1468,
          908,
          631,
          879,
          0,
          0,
          1055,
          1234,
          0,
          325,
          0,
          1657,
          817,
          1440,
          0,
          1401,
          0,
          382,
          89,
          45,
          0,
          0,
          0,
          559,
          0,
          472,
          1597,
          703,
          0,
          1013,
          386,
          0,
          1922,
          1866,
          0,
          12,
          0,
          0,
          2070,
          716,
          1913,
          1897,
          0,
          1011,
          4,
          1332,
          0,
          90,
          1800,
          198,
          255,
          403,
          1617,
          954,
          2070,
          1368,
          0,
          964,
          0,
          0,
          1248,
          1928,
          670,
          812,
          1115,
          0,
          1485,
          48,
          0,
          1577,
          1165,
          1148,
          779,
          0,
          773,
          662,
          0,
          1827,
          261,
          0,
          0,
          149,
          7,
          397,
          1445,
          696,
          1573,
          1046,
          0,
          1310,
          498,
          1169,
          1047,
          0,
          0,
          0,
          1261,
          1275,
          0,
          1477,
          11,
          452,
          18,
          500,
          1867,
          1472,
          0,
          0,
          0,
          1824,
          0,
          900,
          930,
          0,
          557,
          809,
          870,
          882,
          882,
          84,
          0,
          104,
          0,
          943,
          1490,
          83,
          1044,
          0,
          0,
          1993,
          77,
          1842,
          0,
          4,
          737,
          3,
          273,
          831,
          0,
          994,
          0,
          0,
          132,
          0,
          0,
          416,
          977,
          0,
          0,
          1009,
          610,
          438,
          987,
          0,
          495,
          1502,
          270,
          1441,
          90,
          1485,
          833,
          316,
          1487,
          482,
          310,
          105,
          1870,
          284,
          0,
          916,
          0,
          898,
          199,
          778,
          1977,
          98,
          0,
          1440,
          76,
          0,
          0,
          0,
          1682,
          1213,
          0,
          0,
          8,
          1506,
          1867,
          130,
          1935,
          291,
          19,
          1683,
          318,
          676,
          0,
          0,
          1268,
          0,
          392,
          1849,
          0,
          4,
          2070,
          1905,
          1543,
          559,
          200,
          0,
          0
         ],
         "yaxis": "y"
        },
        {
         "hovertemplate": "<b>OLS trendline</b><br>minutes = 25.4423 * total_points + 102.554<br>R<sup>2</sup>=0.832059<br><br>element_type=DEF<br>total_points=%{x}<br>minutes=%{y} <b>(trend)</b><extra></extra>",
         "legendgroup": "DEF",
         "marker": {
          "color": "#EF553B",
          "symbol": "circle"
         },
         "mode": "lines",
         "name": "DEF",
         "showlegend": false,
         "type": "scatter",
         "x": [
          -1,
          0,
          0,
          0,
          0,
          0,
          0,
          0,
          0,
          0,
          0,
          0,
          0,
          0,
          0,
          0,
          0,
          0,
          0,
          0,
          0,
          0,
          0,
          0,
          0,
          0,
          0,
          0,
          0,
          0,
          0,
          0,
          0,
          0,
          0,
          0,
          0,
          0,
          0,
          0,
          0,
          0,
          0,
          0,
          0,
          0,
          0,
          0,
          0,
          0,
          0,
          0,
          0,
          0,
          0,
          0,
          0,
          0,
          0,
          0,
          0,
          0,
          0,
          0,
          0,
          0,
          0,
          0,
          0,
          0,
          0,
          0,
          0,
          0,
          0,
          0,
          0,
          0,
          0,
          0,
          0,
          0,
          0,
          1,
          1,
          1,
          1,
          1,
          1,
          1,
          1,
          1,
          1,
          2,
          2,
          2,
          2,
          2,
          2,
          3,
          3,
          3,
          3,
          4,
          4,
          4,
          4,
          4,
          5,
          5,
          6,
          6,
          6,
          6,
          7,
          7,
          8,
          9,
          10,
          10,
          11,
          11,
          11,
          12,
          12,
          12,
          12,
          12,
          13,
          13,
          13,
          14,
          14,
          15,
          15,
          16,
          17,
          17,
          18,
          18,
          18,
          18,
          18,
          19,
          19,
          19,
          20,
          20,
          20,
          20,
          20,
          20,
          20,
          21,
          21,
          21,
          21,
          22,
          23,
          23,
          23,
          23,
          24,
          25,
          25,
          27,
          27,
          27,
          28,
          28,
          29,
          29,
          29,
          30,
          30,
          30,
          30,
          30,
          31,
          31,
          31,
          32,
          32,
          33,
          33,
          33,
          34,
          34,
          34,
          34,
          34,
          34,
          34,
          34,
          35,
          35,
          36,
          36,
          36,
          37,
          37,
          37,
          37,
          38,
          39,
          39,
          39,
          41,
          41,
          42,
          43,
          43,
          44,
          44,
          44,
          45,
          46,
          46,
          46,
          46,
          48,
          49,
          50,
          51,
          53,
          53,
          53,
          55,
          56,
          58,
          58,
          58,
          58,
          59,
          59,
          59,
          59,
          60,
          61,
          61,
          61,
          62,
          63,
          64,
          64,
          65,
          66,
          67,
          72,
          73,
          74,
          76,
          78,
          78,
          78,
          80,
          84,
          85,
          85,
          99,
          102
         ],
         "xaxis": "x",
         "y": [
          77.111921687292,
          102.5542392445306,
          102.5542392445306,
          102.5542392445306,
          102.5542392445306,
          102.5542392445306,
          102.5542392445306,
          102.5542392445306,
          102.5542392445306,
          102.5542392445306,
          102.5542392445306,
          102.5542392445306,
          102.5542392445306,
          102.5542392445306,
          102.5542392445306,
          102.5542392445306,
          102.5542392445306,
          102.5542392445306,
          102.5542392445306,
          102.5542392445306,
          102.5542392445306,
          102.5542392445306,
          102.5542392445306,
          102.5542392445306,
          102.5542392445306,
          102.5542392445306,
          102.5542392445306,
          102.5542392445306,
          102.5542392445306,
          102.5542392445306,
          102.5542392445306,
          102.5542392445306,
          102.5542392445306,
          102.5542392445306,
          102.5542392445306,
          102.5542392445306,
          102.5542392445306,
          102.5542392445306,
          102.5542392445306,
          102.5542392445306,
          102.5542392445306,
          102.5542392445306,
          102.5542392445306,
          102.5542392445306,
          102.5542392445306,
          102.5542392445306,
          102.5542392445306,
          102.5542392445306,
          102.5542392445306,
          102.5542392445306,
          102.5542392445306,
          102.5542392445306,
          102.5542392445306,
          102.5542392445306,
          102.5542392445306,
          102.5542392445306,
          102.5542392445306,
          102.5542392445306,
          102.5542392445306,
          102.5542392445306,
          102.5542392445306,
          102.5542392445306,
          102.5542392445306,
          102.5542392445306,
          102.5542392445306,
          102.5542392445306,
          102.5542392445306,
          102.5542392445306,
          102.5542392445306,
          102.5542392445306,
          102.5542392445306,
          102.5542392445306,
          102.5542392445306,
          102.5542392445306,
          102.5542392445306,
          102.5542392445306,
          102.5542392445306,
          102.5542392445306,
          102.5542392445306,
          102.5542392445306,
          102.5542392445306,
          102.5542392445306,
          102.5542392445306,
          127.99655680176922,
          127.99655680176922,
          127.99655680176922,
          127.99655680176922,
          127.99655680176922,
          127.99655680176922,
          127.99655680176922,
          127.99655680176922,
          127.99655680176922,
          127.99655680176922,
          153.43887435900783,
          153.43887435900783,
          153.43887435900783,
          153.43887435900783,
          153.43887435900783,
          153.43887435900783,
          178.88119191624645,
          178.88119191624645,
          178.88119191624645,
          178.88119191624645,
          204.32350947348505,
          204.32350947348505,
          204.32350947348505,
          204.32350947348505,
          204.32350947348505,
          229.76582703072364,
          229.76582703072364,
          255.20814458796227,
          255.20814458796227,
          255.20814458796227,
          255.20814458796227,
          280.6504621452009,
          280.6504621452009,
          306.0927797024395,
          331.5350972596781,
          356.97741481691673,
          356.97741481691673,
          382.41973237415533,
          382.41973237415533,
          382.41973237415533,
          407.8620499313939,
          407.8620499313939,
          407.8620499313939,
          407.8620499313939,
          407.8620499313939,
          433.3043674886325,
          433.3043674886325,
          433.3043674886325,
          458.7466850458712,
          458.7466850458712,
          484.18900260310977,
          484.18900260310977,
          509.63132016034837,
          535.073637717587,
          535.073637717587,
          560.5159552748255,
          560.5159552748255,
          560.5159552748255,
          560.5159552748255,
          560.5159552748255,
          585.9582728320643,
          585.9582728320643,
          585.9582728320643,
          611.4005903893028,
          611.4005903893028,
          611.4005903893028,
          611.4005903893028,
          611.4005903893028,
          611.4005903893028,
          611.4005903893028,
          636.8429079465413,
          636.8429079465413,
          636.8429079465413,
          636.8429079465413,
          662.2852255037801,
          687.7275430610187,
          687.7275430610187,
          687.7275430610187,
          687.7275430610187,
          713.1698606182572,
          738.612178175496,
          738.612178175496,
          789.496813289973,
          789.496813289973,
          789.496813289973,
          814.9391308472118,
          814.9391308472118,
          840.3814484044503,
          840.3814484044503,
          840.3814484044503,
          865.8237659616889,
          865.8237659616889,
          865.8237659616889,
          865.8237659616889,
          865.8237659616889,
          891.2660835189274,
          891.2660835189274,
          891.2660835189274,
          916.7084010761662,
          916.7084010761662,
          942.1507186334047,
          942.1507186334047,
          942.1507186334047,
          967.5930361906433,
          967.5930361906433,
          967.5930361906433,
          967.5930361906433,
          967.5930361906433,
          967.5930361906433,
          967.5930361906433,
          967.5930361906433,
          993.035353747882,
          993.035353747882,
          1018.4776713051206,
          1018.4776713051206,
          1018.4776713051206,
          1043.919988862359,
          1043.919988862359,
          1043.919988862359,
          1043.919988862359,
          1069.3623064195979,
          1094.8046239768364,
          1094.8046239768364,
          1094.8046239768364,
          1145.6892590913137,
          1145.6892590913137,
          1171.1315766485523,
          1196.5738942057908,
          1196.5738942057908,
          1222.0162117630296,
          1222.0162117630296,
          1222.0162117630296,
          1247.458529320268,
          1272.9008468775066,
          1272.9008468775066,
          1272.9008468775066,
          1272.9008468775066,
          1323.785481991984,
          1349.2277995492225,
          1374.6701171064612,
          1400.1124346636998,
          1450.997069778177,
          1450.997069778177,
          1450.997069778177,
          1501.8817048926542,
          1527.324022449893,
          1578.20865756437,
          1578.20865756437,
          1578.20865756437,
          1578.20865756437,
          1603.6509751216086,
          1603.6509751216086,
          1603.6509751216086,
          1603.6509751216086,
          1629.0932926788473,
          1654.5356102360859,
          1654.5356102360859,
          1654.5356102360859,
          1679.9779277933244,
          1705.4202453505632,
          1730.8625629078017,
          1730.8625629078017,
          1756.3048804650402,
          1781.747198022279,
          1807.1895155795175,
          1934.4011033657105,
          1959.8434209229492,
          1985.2857384801878,
          2036.170373594665,
          2087.055008709142,
          2087.055008709142,
          2087.055008709142,
          2137.9396438236195,
          2239.7089140525736,
          2265.1512316098124,
          2265.1512316098124,
          2621.343677411153,
          2697.6706300828687
         ],
         "yaxis": "y"
        },
        {
         "customdata": [
          [
           0.09090909090909091
          ],
          [
           91.77777777777777
          ],
          [
           1136.6197183098593
          ],
          [
           203.81132075471697
          ],
          [
           0
          ],
          [
           1588.3636363636365
          ],
          [
           1883.6470588235293
          ],
          [
           36.458333333333336
          ],
          [
           0
          ],
          [
           2753.4333333333334
          ],
          [
           58.58490566037735
          ],
          [
           741.4153846153846
          ],
          [
           0
          ],
          [
           2881.6666666666665
          ],
          [
           21.1875
          ],
          [
           0
          ],
          [
           0
          ],
          [
           0
          ],
          [
           0
          ],
          [
           1585.5714285714287
          ],
          [
           0
          ],
          [
           0.8275862068965518
          ],
          [
           48.16326530612245
          ],
          [
           3454.178571428571
          ],
          [
           1.0454545454545454
          ],
          [
           1207.64
          ],
          [
           3197.4545454545455
          ],
          [
           0.06666666666666667
          ],
          [
           177.11864406779662
          ],
          [
           0
          ],
          [
           503.5178571428571
          ],
          [
           0.4
          ],
          [
           2017.3999999999999
          ],
          [
           0
          ],
          [
           175
          ],
          [
           0
          ],
          [
           0.18
          ],
          [
           9.244897959183673
          ],
          [
           1126.0576923076924
          ],
          [
           132.61702127659575
          ],
          [
           1749.3000000000002
          ],
          [
           918.68
          ],
          [
           0
          ],
          [
           0
          ],
          [
           969.6304347826087
          ],
          [
           0
          ],
          [
           0
          ],
          [
           170
          ],
          [
           0
          ],
          [
           102.91666666666666
          ],
          [
           1679.1666666666665
          ],
          [
           2.8085106382978724
          ],
          [
           214.16326530612244
          ],
          [
           0
          ],
          [
           339.05454545454546
          ],
          [
           0
          ],
          [
           72.20930232558139
          ],
          [
           0
          ],
          [
           0
          ],
          [
           107.00000000000001
          ],
          [
           1.4042553191489362
          ],
          [
           1729.188679245283
          ],
          [
           1548.6666666666667
          ],
          [
           632.2978723404256
          ],
          [
           1645.3235294117646
          ],
          [
           1465.4716981132076
          ],
          [
           298.7755102040816
          ],
          [
           93.17307692307692
          ],
          [
           0
          ],
          [
           146.2325581395349
          ],
          [
           9.066666666666666
          ],
          [
           0
          ],
          [
           322.4666666666667
          ],
          [
           0.7333333333333334
          ],
          [
           1275.68
          ],
          [
           0
          ],
          [
           0
          ],
          [
           453.7872340425532
          ],
          [
           130.95833333333334
          ],
          [
           10.879999999999999
          ],
          [
           1576.8367346938776
          ],
          [
           2788.40625
          ],
          [
           0
          ],
          [
           210.6122448979592
          ],
          [
           354.8360655737705
          ],
          [
           449.1666666666667
          ],
          [
           1299.375
          ],
          [
           9.318181818181818
          ],
          [
           0
          ],
          [
           808.2666666666667
          ],
          [
           183.24444444444444
          ],
          [
           99
          ],
          [
           0.8666666666666666
          ],
          [
           0
          ],
          [
           0
          ],
          [
           0
          ],
          [
           0
          ],
          [
           0
          ],
          [
           5.615384615384616
          ],
          [
           2107.7446808510635
          ],
          [
           0
          ],
          [
           0.7083333333333333
          ],
          [
           0
          ],
          [
           373.59999999999997
          ],
          [
           550.3958333333334
          ],
          [
           0
          ],
          [
           12.956521739130435
          ],
          [
           1546.5531914893618
          ],
          [
           30.893617021276594
          ],
          [
           810
          ],
          [
           297.1428571428571
          ],
          [
           765.16
          ],
          [
           114
          ],
          [
           0.2040816326530612
          ],
          [
           134.83018867924528
          ],
          [
           1369.3333333333335
          ],
          [
           0.16666666666666666
          ],
          [
           48
          ],
          [
           1595.8333333333335
          ],
          [
           1990.7037037037037
          ],
          [
           128.8867924528302
          ],
          [
           808.2063492063492
          ],
          [
           0
          ],
          [
           2152.8
          ],
          [
           0
          ],
          [
           2684.2033898305085
          ],
          [
           0
          ],
          [
           43.13725490196078
          ],
          [
           67.25
          ],
          [
           0.6530612244897959
          ],
          [
           0
          ],
          [
           0.022222222222222223
          ],
          [
           0
          ],
          [
           0.1111111111111111
          ],
          [
           37.604651162790695
          ],
          [
           2045.6296296296298
          ],
          [
           394.2857142857143
          ],
          [
           0
          ],
          [
           1256.6666666666667
          ],
          [
           785.6326530612245
          ],
          [
           1373.936170212766
          ],
          [
           920.1355932203389
          ],
          [
           28.325581395348838
          ],
          [
           1170.204081632653
          ],
          [
           11.625
          ],
          [
           23.46666666666667
          ],
          [
           13.88888888888889
          ],
          [
           0
          ],
          [
           2.48
          ],
          [
           32.11363636363637
          ],
          [
           0
          ],
          [
           2200.509090909091
          ],
          [
           2144
          ],
          [
           0
          ],
          [
           0
          ],
          [
           643.4166666666666
          ],
          [
           1972
          ],
          [
           1253.744680851064
          ],
          [
           293.5
          ],
          [
           53.82222222222222
          ],
          [
           0.022727272727272728
          ],
          [
           1738.8000000000002
          ],
          [
           0
          ],
          [
           0
          ],
          [
           1245
          ],
          [
           2197.6603773584907
          ],
          [
           1115.265306122449
          ],
          [
           0
          ],
          [
           1142.1509433962265
          ],
          [
           0
          ],
          [
           0
          ],
          [
           145.86046511627907
          ],
          [
           2001.6
          ],
          [
           584.6666666666667
          ],
          [
           1097
          ],
          [
           1756.245283018868
          ],
          [
           0
          ],
          [
           3.265306122448979
          ],
          [
           3.2888888888888888
          ],
          [
           0
          ],
          [
           0
          ],
          [
           0
          ],
          [
           967.2345679012345
          ],
          [
           353.375
          ],
          [
           0
          ],
          [
           0
          ],
          [
           522.5714285714286
          ],
          [
           1430.6486486486485
          ],
          [
           921.8793103448277
          ],
          [
           2088
          ],
          [
           1916.0281690140844
          ],
          [
           0.10638297872340426
          ],
          [
           0.6363636363636364
          ],
          [
           0.29545454545454547
          ],
          [
           0.022727272727272728
          ],
          [
           322.6851851851852
          ],
          [
           351.99999999999994
          ],
          [
           0
          ],
          [
           0.022222222222222223
          ],
          [
           304.63265306122446
          ],
          [
           539.7954545454545
          ],
          [
           3.3043478260869565
          ],
          [
           0
          ],
          [
           59.58333333333333
          ],
          [
           0
          ],
          [
           0
          ],
          [
           0
          ],
          [
           0
          ],
          [
           0
          ],
          [
           0
          ],
          [
           0
          ],
          [
           424.8510638297872
          ],
          [
           409.04255319148933
          ],
          [
           1687.9183673469386
          ],
          [
           589.68
          ],
          [
           0
          ],
          [
           0
          ],
          [
           2094.4
          ],
          [
           52.27272727272727
          ],
          [
           0
          ],
          [
           46.99074074074074
          ],
          [
           2778.227848101266
          ],
          [
           387.22222222222223
          ],
          [
           509.95744680851067
          ],
          [
           0
          ],
          [
           0
          ],
          [
           2293.821428571429
          ],
          [
           245.875
          ],
          [
           719.9846153846154
          ],
          [
           0
          ],
          [
           0
          ],
          [
           70.05882352941177
          ],
          [
           0.8181818181818181
          ],
          [
           392.35294117647055
          ],
          [
           1955.8536585365853
          ],
          [
           427.92452830188677
          ],
          [
           495.3448275862069
          ],
          [
           0
          ],
          [
           2053.5
          ],
          [
           33.51162790697674
          ],
          [
           422.79545454545456
          ],
          [
           1932.0652173913043
          ],
          [
           50.76190476190476
          ],
          [
           1437.3333333333335
          ],
          [
           3.4029850746268657
          ],
          [
           0.0425531914893617
          ],
          [
           0.36363636363636365
          ],
          [
           0.022222222222222223
          ],
          [
           170.8
          ],
          [
           1609.274193548387
          ],
          [
           184.11904761904762
          ],
          [
           2109.4137931034484
          ],
          [
           0
          ],
          [
           3157.483870967742
          ],
          [
           0
          ],
          [
           0
          ],
          [
           800.9137931034483
          ],
          [
           0
          ],
          [
           1985.5
          ],
          [
           186.875
          ],
          [
           14.372093023255815
          ],
          [
           0
          ],
          [
           134.46153846153845
          ],
          [
           10.264150943396226
          ],
          [
           77.90322580645162
          ],
          [
           668.8
          ],
          [
           0.022222222222222223
          ],
          [
           0
          ],
          [
           0
          ],
          [
           611.2340425531916
          ],
          [
           2241.4313725490197
          ],
          [
           0.08888888888888889
          ],
          [
           0
          ],
          [
           0
          ],
          [
           467.8301886792453
          ],
          [
           0
          ],
          [
           2291.5789473684213
          ],
          [
           41.875
          ],
          [
           1249.6
          ],
          [
           0
          ],
          [
           0
          ],
          [
           0
          ],
          [
           0
          ],
          [
           0
          ],
          [
           621.8333333333334
          ],
          [
           826.46
          ],
          [
           317.9591836734694
          ],
          [
           0
          ],
          [
           0.24
          ],
          [
           1480.8181818181818
          ],
          [
           0
          ],
          [
           5.448979591836735
          ],
          [
           928.2291666666666
          ],
          [
           72.5
          ],
          [
           76.38297872340426
          ],
          [
           1416
          ],
          [
           196.02272727272728
          ],
          [
           1919.8
          ],
          [
           4.5
          ],
          [
           0.1590909090909091
          ],
          [
           0.20454545454545453
          ],
          [
           56
          ],
          [
           1400.2758620689656
          ],
          [
           82.57407407407406
          ],
          [
           581.28
          ],
          [
           42.20408163265306
          ],
          [
           476
          ],
          [
           2067.8142857142857
          ],
          [
           306
          ],
          [
           1000.632911392405
          ],
          [
           0
          ],
          [
           1689.486111111111
          ],
          [
           1460.4545454545455
          ],
          [
           227.6
          ],
          [
           2394.166666666667
          ],
          [
           53.80392156862745
          ],
          [
           0
          ],
          [
           25.914893617021278
          ],
          [
           218.21428571428572
          ],
          [
           2902.9367088607596
          ],
          [
           17.115384615384617
          ],
          [
           0
          ],
          [
           0
          ],
          [
           172.65217391304347
          ],
          [
           1592.85
          ],
          [
           2790.857142857143
          ],
          [
           0
          ],
          [
           1183.26
          ],
          [
           3350.9333333333334
          ],
          [
           1392.6911764705883
          ],
          [
           0
          ],
          [
           283.02272727272725
          ],
          [
           0
          ],
          [
           0
          ],
          [
           0
          ],
          [
           0
          ],
          [
           2629.0909090909095
          ],
          [
           1208.1632653061224
          ],
          [
           0
          ],
          [
           2238.4285714285716
          ],
          [
           1491.2857142857142
          ],
          [
           0
          ],
          [
           1032.8936170212767
          ],
          [
           115.18604651162791
          ],
          [
           0
          ],
          [
           389.0816326530612
          ],
          [
           0
          ],
          [
           0.045454545454545456
          ],
          [
           0
          ],
          [
           0
          ],
          [
           0
          ],
          [
           0
          ]
         ],
         "hovertemplate": "<b>%{hovertext}</b><br><br>element_type=MID<br>total_points=%{x}<br>minutes=%{y}<br>now_cost=%{marker.size}<br>points_per_cost_per_minute=%{customdata[0]}<extra></extra>",
         "hovertext": [
          "Mohamed Elneny",
          "Fábio Ferreira Vieira",
          "Kai Havertz",
          "Jorge Luiz Frello Filho",
          "Marcus Oliveira Alencar",
          "Gabriel Martinelli Silva",
          "Martin Ødegaard",
          "Thomas Partey",
          "Nicolas Pépé",
          "Bukayo Saka",
          "Emile Smith Rowe",
          "Leandro Trossard",
          "Granit Xhaka",
          "Declan Rice",
          "Reiss Nelson",
          "Charles Sagoe",
          "Bradley Ibrahim",
          "Myles Lewis-Skelly",
          "Ethan Nwaneri",
          "Leon Bailey",
          "Emiliano Buendía Stati",
          "Philippe Coutinho Correia",
          "Leander Dendoncker",
          "Douglas Luiz Soares de Paulo",
          "Tim Iroegbunam",
          "Boubacar Kamara",
          "John McGinn",
          "Jaden Philogene-Bidace",
          "Jacob Ramsey",
          "Morgan Sanson",
          "Youri Tielemans",
          "Bertrand Traoré",
          "Moussa Diaby",
          "Omari Kellyman",
          "Nicolò Zaniolo",
          "Tommi O'Reilly",
          "Morgan Rogers",
          "Jaidon Anthony",
          "Philip Billing",
          "David Brooks",
          "Ryan Christie",
          "Lewis Cook",
          "Siriki Dembélé",
          "Gavin Kilkenny",
          "Justin Kluivert",
          "Jamal Lowe",
          "Emiliano Marcondes",
          "Dango Ouattara",
          "Ben Pearson",
          "Joe Rothwell",
          "Marcus Tavernier",
          "Hamed Traorè",
          "Alex Scott",
          "Tyler Adams",
          "Luis Sinisterra",
          "Romain Faivre",
          "Shandon Baptiste",
          "Mads Bidstrup",
          "Sergi Canós Tenés",
          "Mikkel Damsgaard",
          "Josh Dasilva",
          "Vitaly Janelt",
          "Mathias Jensen",
          "Keane Lewis-Potter",
          "Bryan Mbeumo",
          "Christian Nørgaard",
          "Frank Onyeka",
          "Kevin Schade",
          "Ryan Trevitt",
          "Yegor Yarmoliuk",
          "Michael Olakigbe",
          "Ethan Brierley",
          "Saman Ghoddos",
          "Myles Peart-Harris",
          "Simon Adingra",
          "Steven Alzate",
          "Yasin Ayari",
          "Facundo Buonanotte",
          "Mahmoud Dahoud",
          "Julio Enciso",
          "Billy Gilmour",
          "Pascal Groß",
          "Kacper Kozłowski",
          "Adam Lallana",
          "Solly March",
          "James Milner",
          "Kaoru Mitoma",
          "Jakub Moder",
          "Jeremy Sarmiento Morante",
          "Jack Hinshelwood",
          "Carlos Baleba",
          "Anssumane Fati Vieira",
          "Benicio Baker-Boaitey",
          "Joshua Duffus",
          "Luca Barrington",
          "Cameron Peupion",
          "Enock Agyei",
          "Samuel Bastien",
          "Manuel Benson Hedilazio",
          "Josh Brownhill",
          "Darko Churlinov",
          "Jack Cork",
          "Dara Costelloe",
          "Josh Cullen",
          "Jóhann Berg Gudmundsson",
          "Scott Twine",
          "Anass Zaroury",
          "Sander Berge",
          "Nathan Redmond",
          "Luca Koleosho",
          "Jacob Bruun Larsen",
          "Wilson Odobert",
          "Aaron Ramsey",
          "Han-Noah Massengo",
          "Mike Trésor",
          "Moisés Caicedo Corozo",
          "Andrey Nascimento dos Santos",
          "Carney Chukwuemeka",
          "Enzo Fernández",
          "Conor Gallagher",
          "Noni Madueke",
          "Mykhailo Mudryk",
          "Christian Pulisic",
          "Raheem Sterling",
          "Hakim Ziyech",
          "Cole Palmer",
          "Ângelo Gabriel Borges Damaceno",
          "Ian Maatsen",
          "Lesley Ugochukwu",
          "Roméo Lavia",
          "Diego Manuel Jadon da Silva Moreira",
          "Alex Matos",
          "Leo Castledine",
          "Cesare Casadei",
          "Naouirou Ahamada",
          "Jordan Ayew",
          "Cheick Doucouré",
          "Malcolm Ebiowei",
          "Eberechi Eze",
          "Will Hughes",
          "Jefferson Lerma Solís",
          "Michael Olise",
          "Jairo Riedewald",
          "Jeffrey Schlupp",
          "Matheus França de Oliveira",
          "Jesurun Rak-Sakyi",
          "David Ozoh",
          "Jadan Raymond",
          "Adam Wharton",
          "André Tavares Gomes",
          "Dele Alli",
          "Abdoulaye Doucouré",
          "James Garner",
          "Jean-Philippe Gbamin",
          "Demarai Gray",
          "Idrissa Gueye",
          "Dwight McNeil",
          "Amadou Onana",
          "Arnaut Danjuma Groeneveld",
          "Lewis Dobbin",
          "Tyler Onyango",
          "Jack Harrison",
          "Mackenzie Hunt",
          "Jenson Metcalfe",
          "Alex Iwobi",
          "Andreas Hoelgebaum Pereira",
          "Tom Cairney",
          "Ivan Neves Abreu Cavaleiro",
          "Bobby De Cordova-Reid",
          "Tyrese Francois",
          "Anthony Knockaert",
          "Saša Lukić",
          "João Palhinha Gonçalves",
          "Harrison Reed",
          "Harry Wilson",
          "Willian Borges da Silva",
          "Matthew Dibley-Dias",
          "Adama Traoré",
          "Luke Harris",
          "Kristian Sekularac",
          "Joshua King",
          "Stefan Bajcetic",
          "Diogo Teixeira da Silva",
          "Harvey Elliott",
          "Fabio Henrique Tavares",
          "Jordan Henderson",
          "Curtis Jones",
          "Luis Díaz",
          "Alexis Mac Allister",
          "Mohamed Salah",
          "Dominik Szoboszlai",
          "Thiago Alcántara do Nascimento",
          "Bobby Clark",
          "Ben Doak",
          "James McConnell",
          "Wataru Endo",
          "Ryan Gravenberch",
          "Treymaurice Nyoni",
          "Kaide Gordon",
          "Albert Sambi Lokonga",
          "Marvelous Nakamba",
          "Luke Berry",
          "Allan Campbell",
          "Jordan Clark",
          "Luke Freeman",
          "Carlos Mendes Gomes",
          "Fred Onyedinma",
          "Dion Pereira",
          "Glen Rea",
          "Elliot Thorpe",
          "Louie Watson",
          "Pelly Ruddock Mpanzu",
          "Tahith Chong",
          "Ross Barkley",
          "Andros Townsend",
          "Jayden Luker",
          "Zack Nelson",
          "Bernardo Veiga de Carvalho e Silva",
          "Oscar Bobb",
          "Shea Charles",
          "Kevin De Bruyne",
          "Phil Foden",
          "Jack Grealish",
          "Mateo Kovačić",
          "Riyad Mahrez",
          "Máximo Perrone",
          "Rodrigo Hernandez",
          "Matheus Luiz Nunes",
          "Jérémy Doku",
          "Mahamadou Susoho",
          "Micah Hamilton",
          "Mason Mount",
          "Amad Diallo",
          "Antony Matheus dos Santos",
          "Bruno Borges Fernandes",
          "Carlos Henrique Casimiro",
          "Christian Eriksen",
          "Frederico Rodrigues de Paula Santos",
          "Alejandro Garnacho",
          "Hannibal Mejbri",
          "Kobbie Mainoo",
          "Scott McTominay",
          "Facundo Pellistri Rebollo",
          "Marcus Rashford",
          "Jadon Sancho",
          "Donny van de Beek",
          "Omari Forson",
          "Daniel Gore",
          "Sofyan Amrabat",
          "Miguel Almirón Rejala",
          "Elliot Anderson",
          "Bruno Guimarães Rodriguez Moura",
          "Ryan Fraser",
          "Anthony Gordon",
          "Isaac Hayden",
          "Jeff Hendrick",
          "Joelinton Cássio Apolinário de Lira",
          "Garang Kuol",
          "Sean Longstaff",
          "Jacob Murphy",
          "Matt Ritchie",
          "Allan Saint-Maximin",
          "Sandro Tonali",
          "Joe Willock",
          "Harvey Barnes",
          "Lewis Miley",
          "Amadou Diallo",
          "Joe White",
          "Travis Hernes",
          "Callum Hudson-Odoi",
          "Anthony Elanga",
          "Brandon Aguilera Zamora",
          "Harry Arter",
          "Josh Bowler",
          "Danilo dos Santos de Oliveira",
          "Remo Freuler",
          "Morgan Gibbs-White",
          "Cheikhou Kouyaté",
          "Orel Mangala",
          "Alex Mighten",
          "Lewis O'Brien",
          "Braian Ojeda Rodríguez",
          "Gustavo Henrique Furtado Scarpa",
          "Jonjo Shelvey",
          "Ryan Yates",
          "Nicolás Domínguez",
          "Ibrahim Sangaré",
          "Jamie McDonnell",
          "Giovanni Reyna",
          "James McAtee",
          "Ismaila Coulibaly",
          "John Fleck",
          "Oliver Norwood",
          "Ben Osborn",
          "Anis Slimane",
          "Vini de Souza Costa",
          "Andre Brooks",
          "Gustavo Hamer",
          "Tom Davies",
          "Ryan Oné",
          "Sydie Peck",
          "Ben Brereton",
          "Brennan Johnson",
          "Rodrigo Bentancur",
          "Yves Bissouma",
          "Bryan Gil Salvatierra",
          "Pierre-Emile Højbjerg",
          "Dejan Kulusevski",
          "Giovani Lo Celso",
          "James Maddison",
          "Tanguy Ndombélé Alvaro",
          "Richarlison de Andrade",
          "Pape Matar Sarr",
          "Oliver Skipp",
          "Son Heung-min",
          "Manor Solomon",
          "Yago de Santiago Alonso",
          "Kalvin Phillips",
          "Saïd Benrahma",
          "Jarrod Bowen",
          "Maxwel Cornet",
          "Conor Coventry",
          "Flynn Downes",
          "Pablo Fornals Malla",
          "Lucas Tolentino Coelho de Lima",
          "Tomáš Souček",
          "Nikola Vlašić",
          "Edson Álvarez Velázquez",
          "James Ward-Prowse",
          "Mohammed Kudus",
          "Lewis Orford",
          "Tommy Doyle",
          "Francisco Jorge Tomás Oliveira",
          "Luke Cundle",
          "Gonçalo Manuel Ganchinho Guedes",
          "Joe Hodge",
          "Hwang Hee-chan",
          "João Victor Gomes da Silva",
          "Bruno Cavaco Jordão",
          "Mario Lemina",
          "Pedro Lomba Neto",
          "Daniel Castelo Podence",
          "Pablo Sarabia",
          "Boubacar Traoré",
          "Enso González",
          "Jean-Ricner Bellegarde",
          "Matthew Whittingham",
          "Tawanda Chirewa",
          "Owen Hesketh",
          "Ty Barnett",
          "Harvey Griffiths",
          "Noha Lemina"
         ],
         "legendgroup": "MID",
         "marker": {
          "color": "#00cc96",
          "size": [
           44,
           54,
           71,
           53,
           45,
           77,
           85,
           48,
           49,
           90,
           53,
           65,
           60,
           54,
           48,
           45,
           45,
           45,
           45,
           56,
           57,
           58,
           49,
           56,
           44,
           50,
           55,
           45,
           59,
           45,
           56,
           50,
           65,
           45,
           54,
           45,
           50,
           49,
           52,
           47,
           50,
           50,
           45,
           43,
           46,
           49,
           43,
           47,
           45,
           48,
           54,
           47,
           49,
           49,
           55,
           50,
           43,
           45,
           50,
           48,
           47,
           53,
           54,
           47,
           68,
           53,
           49,
           52,
           45,
           43,
           45,
           45,
           45,
           45,
           50,
           44,
           45,
           47,
           48,
           50,
           49,
           64,
           45,
           49,
           61,
           48,
           64,
           44,
           45,
           45,
           45,
           64,
           45,
           44,
           45,
           45,
           42,
           49,
           52,
           47,
           44,
           48,
           45,
           50,
           48,
           49,
           46,
           47,
           47,
           48,
           49,
           50,
           50,
           49,
           53,
           45,
           42,
           42,
           48,
           54,
           53,
           63,
           55,
           70,
           54,
           59,
           50,
           51,
           44,
           49,
           45,
           45,
           45,
           45,
           43,
           54,
           49,
           44,
           60,
           49,
           47,
           59,
           43,
           49,
           48,
           45,
           45,
           45,
           50,
           44,
           48,
           55,
           49,
           44,
           53,
           48,
           54,
           47,
           52,
           45,
           44,
           55,
           45,
           45,
           53,
           53,
           49,
           50,
           53,
           44,
           44,
           43,
           50,
           45,
           53,
           53,
           45,
           49,
           45,
           45,
           45,
           47,
           81,
           48,
           50,
           50,
           49,
           74,
           58,
           130,
           71,
           47,
           44,
           44,
           44,
           54,
           50,
           45,
           45,
           49,
           44,
           46,
           49,
           48,
           49,
           45,
           50,
           44,
           44,
           45,
           44,
           47,
           47,
           49,
           50,
           45,
           45,
           65,
           44,
           45,
           108,
           79,
           72,
           47,
           75,
           44,
           56,
           48,
           65,
           45,
           45,
           68,
           44,
           68,
           82,
           53,
           58,
           50,
           48,
           43,
           44,
           46,
           42,
           84,
           67,
           47,
           44,
           45,
           50,
           62,
           42,
           58,
           49,
           62,
           44,
           44,
           58,
           45,
           48,
           48,
           43,
           60,
           52,
           53,
           62,
           45,
           45,
           45,
           45,
           47,
           51,
           45,
           43,
           45,
           53,
           49,
           57,
           48,
           50,
           44,
           49,
           45,
           45,
           48,
           48,
           50,
           49,
           45,
           50,
           44,
           44,
           49,
           48,
           48,
           47,
           50,
           44,
           50,
           50,
           44,
           44,
           50,
           58,
           54,
           50,
           49,
           52,
           70,
           48,
           79,
           44,
           72,
           44,
           45,
           96,
           51,
           45,
           47,
           56,
           79,
           52,
           43,
           50,
           46,
           60,
           49,
           45,
           50,
           60,
           68,
           45,
           44,
           45,
           45,
           54,
           44,
           55,
           49,
           43,
           49,
           56,
           53,
           47,
           43,
           50,
           49,
           45,
           44,
           45,
           45,
           45,
           50
          ],
          "sizemode": "area",
          "sizeref": 0.355,
          "symbol": "circle"
         },
         "mode": "markers",
         "name": "MID",
         "orientation": "v",
         "showlegend": true,
         "type": "scatter",
         "x": [
          4,
          21,
          60,
          22,
          0,
          84,
          90,
          7,
          0,
          129,
          15,
          64,
          0,
          78,
          9,
          0,
          0,
          0,
          0,
          88,
          0,
          2,
          20,
          103,
          2,
          38,
          90,
          1,
          19,
          0,
          39,
          2,
          91,
          0,
          18,
          0,
          1,
          3,
          49,
          23,
          51,
          34,
          0,
          0,
          47,
          0,
          0,
          17,
          0,
          13,
          65,
          3,
          22,
          0,
          37,
          0,
          15,
          0,
          0,
          16,
          3,
          51,
          69,
          39,
          87,
          45,
          20,
          19,
          0,
          16,
          8,
          0,
          21,
          3,
          56,
          0,
          0,
          31,
          14,
          8,
          51,
          98,
          0,
          20,
          39,
          28,
          63,
          5,
          0,
          42,
          14,
          22,
          3,
          0,
          0,
          0,
          0,
          0,
          4,
          56,
          0,
          2,
          0,
          20,
          29,
          0,
          4,
          44,
          11,
          40,
          32,
          47,
          15,
          2,
          18,
          39,
          1,
          12,
          50,
          59,
          23,
          59,
          0,
          91,
          0,
          112,
          0,
          11,
          11,
          1,
          0,
          1,
          0,
          1,
          11,
          64,
          21,
          0,
          65,
          32,
          41,
          72,
          7,
          47,
          6,
          8,
          5,
          0,
          2,
          9,
          0,
          79,
          56,
          0,
          0,
          28,
          68,
          42,
          26,
          14,
          1,
          69,
          0,
          0,
          53,
          74,
          54,
          0,
          59,
          0,
          0,
          16,
          60,
          30,
          53,
          69,
          0,
          4,
          2,
          0,
          0,
          0,
          86,
          33,
          0,
          0,
          31,
          76,
          39,
          156,
          82,
          1,
          2,
          1,
          1,
          25,
          25,
          0,
          1,
          23,
          21,
          4,
          0,
          10,
          0,
          0,
          0,
          0,
          0,
          0,
          0,
          26,
          25,
          62,
          42,
          0,
          0,
          91,
          20,
          0,
          25,
          124,
          40,
          28,
          0,
          0,
          79,
          21,
          53,
          0,
          0,
          12,
          1,
          29,
          81,
          28,
          34,
          0,
          74,
          11,
          27,
          75,
          13,
          77,
          3,
          1,
          4,
          1,
          14,
          65,
          19,
          63,
          0,
          109,
          0,
          0,
          41,
          0,
          66,
          30,
          6,
          0,
          16,
          4,
          23,
          33,
          1,
          0,
          0,
          42,
          79,
          1,
          0,
          0,
          29,
          0,
          70,
          10,
          40,
          0,
          0,
          0,
          0,
          0,
          28,
          43,
          19,
          0,
          1,
          52,
          0,
          3,
          35,
          10,
          10,
          40,
          15,
          58,
          3,
          1,
          1,
          16,
          64,
          13,
          24,
          11,
          26,
          81,
          36,
          75,
          0,
          103,
          54,
          18,
          136,
          14,
          0,
          7,
          20,
          116,
          10,
          0,
          0,
          19,
          63,
          77,
          0,
          39,
          103,
          83,
          0,
          21,
          0,
          0,
          0,
          0,
          100,
          40,
          0,
          63,
          73,
          0,
          58,
          13,
          0,
          31,
          0,
          1,
          0,
          0,
          0,
          0
         ],
         "xaxis": "x",
         "y": [
          1,
          236,
          1345,
          491,
          0,
          1456,
          1779,
          250,
          0,
          1921,
          207,
          753,
          0,
          1995,
          113,
          0,
          0,
          0,
          0,
          1009,
          0,
          24,
          118,
          1878,
          23,
          1589,
          1954,
          3,
          550,
          0,
          723,
          10,
          1441,
          0,
          525,
          0,
          9,
          151,
          1195,
          271,
          1715,
          1351,
          0,
          0,
          949,
          0,
          0,
          470,
          0,
          380,
          1395,
          44,
          477,
          0,
          504,
          1,
          207,
          0,
          0,
          321,
          22,
          1797,
          1212,
          762,
          1286,
          1726,
          732,
          255,
          0,
          393,
          51,
          0,
          691,
          11,
          1139,
          0,
          0,
          688,
          449,
          68,
          1515,
          1821,
          0,
          516,
          555,
          770,
          1320,
          82,
          0,
          866,
          589,
          288,
          13,
          0,
          0,
          0,
          0,
          0,
          73,
          1769,
          0,
          17,
          0,
          934,
          911,
          0,
          149,
          1652,
          132,
          972,
          455,
          814,
          380,
          5,
          397,
          1580,
          7,
          168,
          1532,
          1822,
          297,
          863,
          0,
          1656,
          0,
          1414,
          0,
          200,
          269,
          32,
          0,
          1,
          0,
          5,
          147,
          1726,
          920,
          0,
          1160,
          1203,
          1575,
          754,
          174,
          1220,
          93,
          132,
          125,
          0,
          62,
          157,
          0,
          1532,
          1876,
          0,
          0,
          1103,
          1566,
          1403,
          587,
          173,
          1,
          1386,
          0,
          0,
          1245,
          1574,
          1012,
          0,
          1026,
          0,
          0,
          392,
          1668,
          877,
          1097,
          1349,
          0,
          40,
          74,
          0,
          0,
          0,
          911,
          514,
          0,
          0,
          826,
          1393,
          1371,
          1740,
          1659,
          5,
          14,
          13,
          1,
          697,
          704,
          0,
          1,
          649,
          1131,
          38,
          0,
          286,
          0,
          0,
          0,
          0,
          0,
          0,
          0,
          768,
          769,
          1334,
          702,
          0,
          0,
          1496,
          115,
          0,
          203,
          1770,
          697,
          856,
          0,
          0,
          1626,
          562,
          883,
          0,
          0,
          397,
          36,
          920,
          1980,
          810,
          845,
          0,
          1332,
          131,
          689,
          1185,
          164,
          1568,
          76,
          2,
          4,
          1,
          610,
          1535,
          407,
          1942,
          0,
          1796,
          0,
          0,
          1133,
          0,
          1444,
          299,
          103,
          0,
          437,
          136,
          210,
          912,
          1,
          0,
          0,
          684,
          1447,
          4,
          0,
          0,
          855,
          0,
          1866,
          201,
          1562,
          0,
          0,
          0,
          0,
          0,
          1066,
          961,
          820,
          0,
          12,
          1253,
          0,
          89,
          1273,
          348,
          359,
          1770,
          575,
          1655,
          75,
          7,
          9,
          175,
          1269,
          343,
          1211,
          188,
          952,
          1787,
          408,
          1054,
          0,
          1181,
          1190,
          569,
          1690,
          196,
          0,
          174,
          611,
          1977,
          89,
          0,
          0,
          418,
          1517,
          1776,
          0,
          1517,
          1952,
          1141,
          0,
          593,
          0,
          0,
          0,
          0,
          1446,
          1480,
          0,
          1741,
          1144,
          0,
          837,
          381,
          0,
          615,
          0,
          2,
          0,
          0,
          0,
          0
         ],
         "yaxis": "y"
        },
        {
         "hovertemplate": "<b>OLS trendline</b><br>minutes = 18.2825 * total_points + 83.7225<br>R<sup>2</sup>=0.810597<br><br>element_type=MID<br>total_points=%{x}<br>minutes=%{y} <b>(trend)</b><extra></extra>",
         "legendgroup": "MID",
         "marker": {
          "color": "#00cc96",
          "symbol": "circle"
         },
         "mode": "lines",
         "name": "MID",
         "showlegend": false,
         "type": "scatter",
         "x": [
          0,
          0,
          0,
          0,
          0,
          0,
          0,
          0,
          0,
          0,
          0,
          0,
          0,
          0,
          0,
          0,
          0,
          0,
          0,
          0,
          0,
          0,
          0,
          0,
          0,
          0,
          0,
          0,
          0,
          0,
          0,
          0,
          0,
          0,
          0,
          0,
          0,
          0,
          0,
          0,
          0,
          0,
          0,
          0,
          0,
          0,
          0,
          0,
          0,
          0,
          0,
          0,
          0,
          0,
          0,
          0,
          0,
          0,
          0,
          0,
          0,
          0,
          0,
          0,
          0,
          0,
          0,
          0,
          0,
          0,
          0,
          0,
          0,
          0,
          0,
          0,
          0,
          0,
          0,
          0,
          0,
          0,
          0,
          0,
          0,
          0,
          0,
          0,
          0,
          0,
          0,
          0,
          0,
          0,
          0,
          0,
          0,
          0,
          0,
          0,
          0,
          0,
          0,
          0,
          0,
          0,
          0,
          1,
          1,
          1,
          1,
          1,
          1,
          1,
          1,
          1,
          1,
          1,
          1,
          1,
          1,
          1,
          1,
          1,
          1,
          1,
          1,
          2,
          2,
          2,
          2,
          2,
          2,
          2,
          2,
          3,
          3,
          3,
          3,
          3,
          3,
          3,
          3,
          4,
          4,
          4,
          4,
          4,
          4,
          4,
          5,
          5,
          6,
          6,
          7,
          7,
          7,
          8,
          8,
          8,
          9,
          9,
          10,
          10,
          10,
          10,
          10,
          11,
          11,
          11,
          11,
          11,
          11,
          12,
          12,
          13,
          13,
          13,
          13,
          14,
          14,
          14,
          14,
          14,
          15,
          15,
          15,
          15,
          16,
          16,
          16,
          16,
          16,
          17,
          18,
          18,
          18,
          19,
          19,
          19,
          19,
          19,
          20,
          20,
          20,
          20,
          20,
          20,
          21,
          21,
          21,
          21,
          21,
          21,
          22,
          22,
          22,
          23,
          23,
          23,
          23,
          24,
          25,
          25,
          25,
          25,
          26,
          26,
          26,
          27,
          28,
          28,
          28,
          28,
          28,
          29,
          29,
          29,
          30,
          30,
          31,
          31,
          31,
          32,
          32,
          33,
          33,
          34,
          34,
          35,
          36,
          37,
          38,
          39,
          39,
          39,
          39,
          39,
          39,
          40,
          40,
          40,
          40,
          40,
          41,
          41,
          42,
          42,
          42,
          42,
          43,
          44,
          45,
          47,
          47,
          47,
          49,
          50,
          51,
          51,
          51,
          52,
          53,
          53,
          53,
          54,
          54,
          56,
          56,
          56,
          58,
          58,
          59,
          59,
          59,
          60,
          60,
          62,
          63,
          63,
          63,
          63,
          64,
          64,
          64,
          65,
          65,
          65,
          66,
          68,
          69,
          69,
          69,
          70,
          72,
          73,
          74,
          74,
          75,
          75,
          76,
          77,
          77,
          78,
          79,
          79,
          79,
          81,
          81,
          82,
          83,
          84,
          86,
          87,
          88,
          90,
          90,
          91,
          91,
          91,
          98,
          100,
          103,
          103,
          103,
          109,
          112,
          116,
          124,
          129,
          136,
          156
         ],
         "xaxis": "x",
         "y": [
          83.7225458053352,
          83.7225458053352,
          83.7225458053352,
          83.7225458053352,
          83.7225458053352,
          83.7225458053352,
          83.7225458053352,
          83.7225458053352,
          83.7225458053352,
          83.7225458053352,
          83.7225458053352,
          83.7225458053352,
          83.7225458053352,
          83.7225458053352,
          83.7225458053352,
          83.7225458053352,
          83.7225458053352,
          83.7225458053352,
          83.7225458053352,
          83.7225458053352,
          83.7225458053352,
          83.7225458053352,
          83.7225458053352,
          83.7225458053352,
          83.7225458053352,
          83.7225458053352,
          83.7225458053352,
          83.7225458053352,
          83.7225458053352,
          83.7225458053352,
          83.7225458053352,
          83.7225458053352,
          83.7225458053352,
          83.7225458053352,
          83.7225458053352,
          83.7225458053352,
          83.7225458053352,
          83.7225458053352,
          83.7225458053352,
          83.7225458053352,
          83.7225458053352,
          83.7225458053352,
          83.7225458053352,
          83.7225458053352,
          83.7225458053352,
          83.7225458053352,
          83.7225458053352,
          83.7225458053352,
          83.7225458053352,
          83.7225458053352,
          83.7225458053352,
          83.7225458053352,
          83.7225458053352,
          83.7225458053352,
          83.7225458053352,
          83.7225458053352,
          83.7225458053352,
          83.7225458053352,
          83.7225458053352,
          83.7225458053352,
          83.7225458053352,
          83.7225458053352,
          83.7225458053352,
          83.7225458053352,
          83.7225458053352,
          83.7225458053352,
          83.7225458053352,
          83.7225458053352,
          83.7225458053352,
          83.7225458053352,
          83.7225458053352,
          83.7225458053352,
          83.7225458053352,
          83.7225458053352,
          83.7225458053352,
          83.7225458053352,
          83.7225458053352,
          83.7225458053352,
          83.7225458053352,
          83.7225458053352,
          83.7225458053352,
          83.7225458053352,
          83.7225458053352,
          83.7225458053352,
          83.7225458053352,
          83.7225458053352,
          83.7225458053352,
          83.7225458053352,
          83.7225458053352,
          83.7225458053352,
          83.7225458053352,
          83.7225458053352,
          83.7225458053352,
          83.7225458053352,
          83.7225458053352,
          83.7225458053352,
          83.7225458053352,
          83.7225458053352,
          83.7225458053352,
          83.7225458053352,
          83.7225458053352,
          83.7225458053352,
          83.7225458053352,
          83.7225458053352,
          83.7225458053352,
          83.7225458053352,
          83.7225458053352,
          102.00501535261125,
          102.00501535261125,
          102.00501535261125,
          102.00501535261125,
          102.00501535261125,
          102.00501535261125,
          102.00501535261125,
          102.00501535261125,
          102.00501535261125,
          102.00501535261125,
          102.00501535261125,
          102.00501535261125,
          102.00501535261125,
          102.00501535261125,
          102.00501535261125,
          102.00501535261125,
          102.00501535261125,
          102.00501535261125,
          102.00501535261125,
          102.00501535261125,
          120.2874848998873,
          120.2874848998873,
          120.2874848998873,
          120.2874848998873,
          120.2874848998873,
          120.2874848998873,
          120.2874848998873,
          120.2874848998873,
          138.56995444716335,
          138.56995444716335,
          138.56995444716335,
          138.56995444716335,
          138.56995444716335,
          138.56995444716335,
          138.56995444716335,
          138.56995444716335,
          156.8524239944394,
          156.8524239944394,
          156.8524239944394,
          156.8524239944394,
          156.8524239944394,
          156.8524239944394,
          156.8524239944394,
          175.13489354171546,
          175.13489354171546,
          193.41736308899152,
          193.41736308899152,
          211.69983263626756,
          211.69983263626756,
          211.69983263626756,
          229.9823021835436,
          229.9823021835436,
          229.9823021835436,
          248.26477173081963,
          248.26477173081963,
          266.5472412780957,
          266.5472412780957,
          266.5472412780957,
          266.5472412780957,
          266.5472412780957,
          284.82971082537176,
          284.82971082537176,
          284.82971082537176,
          284.82971082537176,
          284.82971082537176,
          284.82971082537176,
          303.1121803726478,
          303.1121803726478,
          321.39464991992384,
          321.39464991992384,
          321.39464991992384,
          321.39464991992384,
          339.67711946719993,
          339.67711946719993,
          339.67711946719993,
          339.67711946719993,
          339.67711946719993,
          357.95958901447597,
          357.95958901447597,
          357.95958901447597,
          357.95958901447597,
          376.242058561752,
          376.242058561752,
          376.242058561752,
          376.242058561752,
          376.242058561752,
          394.52452810902804,
          412.8069976563041,
          412.8069976563041,
          412.8069976563041,
          431.08946720358017,
          431.08946720358017,
          431.08946720358017,
          431.08946720358017,
          431.08946720358017,
          449.3719367508562,
          449.3719367508562,
          449.3719367508562,
          449.3719367508562,
          449.3719367508562,
          449.3719367508562,
          467.65440629813224,
          467.65440629813224,
          467.65440629813224,
          467.65440629813224,
          467.65440629813224,
          467.65440629813224,
          485.93687584540834,
          485.93687584540834,
          485.93687584540834,
          504.2193453926844,
          504.2193453926844,
          504.2193453926844,
          504.2193453926844,
          522.5018149399605,
          540.7842844872365,
          540.7842844872365,
          540.7842844872365,
          540.7842844872365,
          559.0667540345125,
          559.0667540345125,
          559.0667540345125,
          577.3492235817886,
          595.6316931290646,
          595.6316931290646,
          595.6316931290646,
          595.6316931290646,
          595.6316931290646,
          613.9141626763408,
          613.9141626763408,
          613.9141626763408,
          632.1966322236168,
          632.1966322236168,
          650.4791017708928,
          650.4791017708928,
          650.4791017708928,
          668.7615713181689,
          668.7615713181689,
          687.0440408654449,
          687.0440408654449,
          705.326510412721,
          705.326510412721,
          723.608979959997,
          741.891449507273,
          760.1739190545492,
          778.4563886018252,
          796.7388581491012,
          796.7388581491012,
          796.7388581491012,
          796.7388581491012,
          796.7388581491012,
          796.7388581491012,
          815.0213276963773,
          815.0213276963773,
          815.0213276963773,
          815.0213276963773,
          815.0213276963773,
          833.3037972436533,
          833.3037972436533,
          851.5862667909294,
          851.5862667909294,
          851.5862667909294,
          851.5862667909294,
          869.8687363382054,
          888.1512058854815,
          906.4336754327576,
          942.9986145273097,
          942.9986145273097,
          942.9986145273097,
          979.5635536218617,
          997.8460231691378,
          1016.1284927164138,
          1016.1284927164138,
          1016.1284927164138,
          1034.4109622636897,
          1052.6934318109659,
          1052.6934318109659,
          1052.6934318109659,
          1070.975901358242,
          1070.975901358242,
          1107.540840452794,
          1107.540840452794,
          1107.540840452794,
          1144.1057795473462,
          1144.1057795473462,
          1162.388249094622,
          1162.388249094622,
          1162.388249094622,
          1180.6707186418982,
          1180.6707186418982,
          1217.2356577364503,
          1235.5181272837262,
          1235.5181272837262,
          1235.5181272837262,
          1235.5181272837262,
          1253.8005968310024,
          1253.8005968310024,
          1253.8005968310024,
          1272.0830663782785,
          1272.0830663782785,
          1272.0830663782785,
          1290.3655359255545,
          1326.9304750201065,
          1345.2129445673827,
          1345.2129445673827,
          1345.2129445673827,
          1363.4954141146586,
          1400.0603532092107,
          1418.3428227564868,
          1436.625292303763,
          1436.625292303763,
          1454.907761851039,
          1454.907761851039,
          1473.190231398315,
          1491.472700945591,
          1491.472700945591,
          1509.7551704928671,
          1528.037640040143,
          1528.037640040143,
          1528.037640040143,
          1564.6025791346954,
          1564.6025791346954,
          1582.8850486819713,
          1601.1675182292474,
          1619.4499877765234,
          1656.0149268710754,
          1674.2973964183516,
          1692.5798659656277,
          1729.1448050601798,
          1729.1448050601798,
          1747.4272746074557,
          1747.4272746074557,
          1747.4272746074557,
          1875.404561438388,
          1911.9695005329402,
          1966.8169091747684,
          1966.8169091747684,
          1966.8169091747684,
          2076.5117264584246,
          2131.359135100253,
          2204.4890132893574,
          2350.7487696675657,
          2442.161117403946,
          2570.138404234878,
          2935.7877951803994
         ],
         "yaxis": "y"
        },
        {
         "customdata": [
          [
           170
          ],
          [
           0
          ],
          [
           2215.1020408163267
          ],
          [
           0
          ],
          [
           3008.0769230769233
          ],
          [
           4.615384615384615
          ],
          [
           0
          ],
          [
           0
          ],
          [
           0
          ],
          [
           0
          ],
          [
           0
          ],
          [
           2934.782608695652
          ],
          [
           0
          ],
          [
           0
          ],
          [
           8.181818181818182
          ],
          [
           0
          ],
          [
           0
          ],
          [
           2460
          ],
          [
           13.846153846153847
          ],
          [
           0
          ],
          [
           0
          ],
          [
           0
          ],
          [
           0
          ],
          [
           1058.5714285714287
          ],
          [
           470.45454545454544
          ],
          [
           0
          ],
          [
           0
          ],
          [
           0
          ],
          [
           0
          ],
          [
           2852
          ],
          [
           1878.8222222222223
          ],
          [
           0
          ],
          [
           0
          ],
          [
           0
          ],
          [
           0
          ],
          [
           0
          ],
          [
           395.73333333333335
          ],
          [
           0
          ],
          [
           1787.0222222222224
          ],
          [
           0.07692307692307693
          ],
          [
           0
          ],
          [
           128.86363636363637
          ],
          [
           4094
          ],
          [
           0
          ],
          [
           0
          ],
          [
           3536.25
          ],
          [
           0
          ],
          [
           0
          ],
          [
           0
          ],
          [
           2884.736842105263
          ],
          [
           34.054054054054056
          ],
          [
           0
          ],
          [
           0
          ],
          [
           0
          ],
          [
           0
          ],
          [
           2376
          ],
          [
           0
          ],
          [
           0
          ],
          [
           1905.5636363636363
          ],
          [
           18.105263157894736
          ],
          [
           0
          ],
          [
           0
          ],
          [
           3579.375
          ],
          [
           0
          ],
          [
           0
          ],
          [
           0
          ],
          [
           620.1904761904763
          ],
          [
           0
          ],
          [
           1326.0377358490566
          ],
          [
           0
          ],
          [
           1647.6923076923076
          ],
          [
           0
          ],
          [
           0
          ],
          [
           0
          ],
          [
           120
          ],
          [
           4
          ],
          [
           0
          ],
          [
           0
          ],
          [
           2376.7555555555555
          ],
          [
           0
          ],
          [
           0
          ],
          [
           0
          ],
          [
           0
          ],
          [
           2890.188679245283
          ],
          [
           0
          ],
          [
           3384.642857142857
          ],
          [
           97.80952380952382
          ],
          [
           0
          ],
          [
           101.33333333333334
          ],
          [
           0
          ],
          [
           2259.28
          ],
          [
           0
          ]
         ],
         "hovertemplate": "<b>%{hovertext}</b><br><br>element_type=GK<br>total_points=%{x}<br>minutes=%{y}<br>now_cost=%{marker.size}<br>points_per_cost_per_minute=%{customdata[0]}<extra></extra>",
         "hovertext": [
          "Aaron Ramsdale",
          "Rúnar Alex Rúnarsson",
          "David Raya Martin",
          "Karl Hein",
          "Emiliano Martínez Romero",
          "Robin Olsen",
          "Viljami Sinisalo",
          "Filip Marschall",
          "Oliwier Zych",
          "Sam Proctor",
          "James Wright",
          "Norberto Murara Neto",
          "Darren Randolph",
          "Mark Travers",
          "Ionuț Radu",
          "Ellery Balcombe",
          "Matthew Cox",
          "Mark Flekken",
          "Thomas Strakosha",
          "Vincent Angelini",
          "Hákon Valdimarsson",
          "Tom McGill",
          "Kjell Scherpen",
          "Jason Steele",
          "Bart Verbruggen",
          "Denis Franchi",
          "Arijanet Muric",
          "Bailey Peacock-Farrell",
          "Lawrence Vigouroux",
          "James Trafford",
          "Robert Sánchez",
          "Kepa Arrizabalaga",
          "Marcus Bettinelli",
          "Gabriel Słonina",
          "Lucas Bergström",
          "Eddie Beach",
          "Đorđe Petrović",
          "Vicente Guaita",
          "Sam Johnstone",
          "Remi Matthews",
          "Joe Whitworth",
          "Dean Henderson",
          "Jordan Pickford",
          "João Neves Virgínia",
          "Andy Lonergan",
          "Bernd Leno",
          "Marek Rodák",
          "Steven Benda",
          "Adrián San Miguel del Castillo",
          "Alisson Ramses Becker",
          "Caoimhin Kelleher",
          "Marcelo de Araújo Pitaluga Filho",
          "Matt Macey",
          "James Shea",
          "Jack Walton",
          "Thomas Kaminski",
          "Tim Krul",
          "Scott Carson",
          "Ederson Santana de Moraes",
          "Stefan Ortega Moreno",
          "Zack Steffen",
          "Tom Heaton",
          "André Onana",
          "Radek Vítek",
          "Altay Bayindir",
          "Karl Darlow",
          "Martin Dubravka",
          "Mark Gillespie",
          "Nick Pope",
          "Loris Karius",
          "Matt Turner",
          "Wayne Hennessey",
          "Ethan Horvath",
          "George Shelvey",
          "Odysseas Vlachodimos",
          "Matz Sels",
          "Jordan Amissah",
          "Adam Davies",
          "Wes Foderingham",
          "Ivo Grbic",
          "Brandon Austin",
          "Fraser Forster",
          "Hugo Lloris",
          "Guglielmo Vicario",
          "Alfie Whiteman",
          "Alphonse Areola",
          "Lukasz Fabianski",
          "Joseph Anang",
          "Daniel Bentley",
          "Tom King",
          "José Malheiro de Sá",
          "Matija Šarkić"
         ],
         "legendgroup": "GK",
         "marker": {
          "color": "#ab63fa",
          "size": [
           45,
           40,
           49,
           40,
           52,
           39,
           40,
           40,
           40,
           40,
           40,
           46,
           40,
           40,
           44,
           39,
           40,
           45,
           39,
           40,
           40,
           39,
           40,
           42,
           44,
           39,
           43,
           40,
           39,
           45,
           45,
           50,
           40,
           40,
           39,
           40,
           45,
           44,
           45,
           39,
           39,
           44,
           45,
           39,
           39,
           48,
           39,
           40,
           39,
           57,
           37,
           40,
           40,
           43,
           40,
           45,
           44,
           38,
           55,
           38,
           39,
           40,
           48,
           40,
           40,
           40,
           42,
           39,
           53,
           39,
           39,
           40,
           43,
           39,
           45,
           45,
           39,
           40,
           45,
           45,
           39,
           38,
           47,
           53,
           39,
           42,
           42,
           40,
           39,
           39,
           50,
           40
          ],
          "sizemode": "area",
          "sizeref": 0.355,
          "symbol": "circle"
         },
         "mode": "markers",
         "name": "GK",
         "orientation": "v",
         "showlegend": true,
         "type": "scatter",
         "x": [
          17,
          0,
          67,
          0,
          79,
          2,
          0,
          0,
          0,
          0,
          0,
          75,
          0,
          0,
          2,
          0,
          0,
          60,
          4,
          0,
          0,
          0,
          0,
          38,
          23,
          0,
          0,
          0,
          0,
          62,
          59,
          0,
          -1,
          0,
          0,
          0,
          28,
          0,
          56,
          1,
          0,
          9,
          89,
          0,
          0,
          82,
          -1,
          0,
          0,
          87,
          7,
          0,
          0,
          0,
          0,
          54,
          0,
          0,
          58,
          4,
          0,
          0,
          83,
          0,
          0,
          0,
          32,
          0,
          56,
          0,
          42,
          0,
          0,
          0,
          12,
          2,
          0,
          0,
          53,
          0,
          0,
          0,
          0,
          74,
          0,
          81,
          13,
          0,
          16,
          0,
          62,
          0
         ],
         "xaxis": "x",
         "y": [
          450,
          0,
          1620,
          0,
          1980,
          90,
          0,
          0,
          0,
          0,
          0,
          1800,
          0,
          0,
          180,
          0,
          0,
          1845,
          135,
          0,
          0,
          0,
          0,
          1170,
          900,
          0,
          0,
          0,
          0,
          2070,
          1433,
          0,
          0,
          0,
          0,
          0,
          636,
          0,
          1436,
          3,
          0,
          630,
          2070,
          0,
          0,
          2070,
          0,
          0,
          0,
          1890,
          180,
          0,
          0,
          0,
          0,
          1980,
          0,
          0,
          1807,
          172,
          0,
          0,
          2070,
          0,
          0,
          0,
          814,
          0,
          1255,
          0,
          1530,
          0,
          0,
          0,
          450,
          90,
          0,
          0,
          2018,
          51,
          0,
          0,
          0,
          2070,
          0,
          1755,
          316,
          0,
          247,
          0,
          1822,
          0
         ],
         "yaxis": "y"
        },
        {
         "hovertemplate": "<b>OLS trendline</b><br>minutes = 26.1 * total_points + 24.1779<br>R<sup>2</sup>=0.957703<br><br>element_type=GK<br>total_points=%{x}<br>minutes=%{y} <b>(trend)</b><extra></extra>",
         "legendgroup": "GK",
         "marker": {
          "color": "#ab63fa",
          "symbol": "circle"
         },
         "mode": "lines",
         "name": "GK",
         "showlegend": false,
         "type": "scatter",
         "x": [
          -1,
          -1,
          0,
          0,
          0,
          0,
          0,
          0,
          0,
          0,
          0,
          0,
          0,
          0,
          0,
          0,
          0,
          0,
          0,
          0,
          0,
          0,
          0,
          0,
          0,
          0,
          0,
          0,
          0,
          0,
          0,
          0,
          0,
          0,
          0,
          0,
          0,
          0,
          0,
          0,
          0,
          0,
          0,
          0,
          0,
          0,
          0,
          0,
          0,
          0,
          0,
          0,
          0,
          0,
          0,
          0,
          0,
          1,
          2,
          2,
          2,
          4,
          4,
          7,
          9,
          12,
          13,
          16,
          17,
          23,
          28,
          32,
          38,
          42,
          53,
          54,
          56,
          56,
          58,
          59,
          60,
          62,
          62,
          67,
          74,
          75,
          79,
          81,
          82,
          83,
          87,
          89
         ],
         "xaxis": "x",
         "y": [
          -1.9221026842829154,
          -1.9221026842829154,
          24.177855166859597,
          24.177855166859597,
          24.177855166859597,
          24.177855166859597,
          24.177855166859597,
          24.177855166859597,
          24.177855166859597,
          24.177855166859597,
          24.177855166859597,
          24.177855166859597,
          24.177855166859597,
          24.177855166859597,
          24.177855166859597,
          24.177855166859597,
          24.177855166859597,
          24.177855166859597,
          24.177855166859597,
          24.177855166859597,
          24.177855166859597,
          24.177855166859597,
          24.177855166859597,
          24.177855166859597,
          24.177855166859597,
          24.177855166859597,
          24.177855166859597,
          24.177855166859597,
          24.177855166859597,
          24.177855166859597,
          24.177855166859597,
          24.177855166859597,
          24.177855166859597,
          24.177855166859597,
          24.177855166859597,
          24.177855166859597,
          24.177855166859597,
          24.177855166859597,
          24.177855166859597,
          24.177855166859597,
          24.177855166859597,
          24.177855166859597,
          24.177855166859597,
          24.177855166859597,
          24.177855166859597,
          24.177855166859597,
          24.177855166859597,
          24.177855166859597,
          24.177855166859597,
          24.177855166859597,
          24.177855166859597,
          24.177855166859597,
          24.177855166859597,
          24.177855166859597,
          24.177855166859597,
          24.177855166859597,
          24.177855166859597,
          50.27781301800211,
          76.37777086914463,
          76.37777086914463,
          76.37777086914463,
          128.57768657142964,
          128.57768657142964,
          206.87756012485718,
          259.0774758271422,
          337.3773493805698,
          363.4773072317123,
          441.7771807851398,
          467.8771386362823,
          624.4768857431374,
          754.97667499885,
          859.37650640342,
          1015.976253510275,
          1120.3760849148453,
          1407.4756212774128,
          1433.5755791285553,
          1485.7754948308404,
          1485.7754948308404,
          1537.9754105331253,
          1564.075368384268,
          1590.1753262354105,
          1642.3752419376954,
          1642.3752419376954,
          1772.875031193408,
          1955.5747361514057,
          1981.6746940025482,
          2086.074525407118,
          2138.274441109403,
          2164.3743989605455,
          2190.474356811688,
          2294.874188216258,
          2347.074103918543
         ],
         "yaxis": "y"
        }
       ],
       "layout": {
        "legend": {
         "itemsizing": "constant",
         "title": {
          "text": "Position"
         },
         "tracegroupgap": 0
        },
        "margin": {
         "t": 60
        },
        "template": {
         "data": {
          "bar": [
           {
            "error_x": {
             "color": "#2a3f5f"
            },
            "error_y": {
             "color": "#2a3f5f"
            },
            "marker": {
             "line": {
              "color": "#E5ECF6",
              "width": 0.5
             },
             "pattern": {
              "fillmode": "overlay",
              "size": 10,
              "solidity": 0.2
             }
            },
            "type": "bar"
           }
          ],
          "barpolar": [
           {
            "marker": {
             "line": {
              "color": "#E5ECF6",
              "width": 0.5
             },
             "pattern": {
              "fillmode": "overlay",
              "size": 10,
              "solidity": 0.2
             }
            },
            "type": "barpolar"
           }
          ],
          "carpet": [
           {
            "aaxis": {
             "endlinecolor": "#2a3f5f",
             "gridcolor": "white",
             "linecolor": "white",
             "minorgridcolor": "white",
             "startlinecolor": "#2a3f5f"
            },
            "baxis": {
             "endlinecolor": "#2a3f5f",
             "gridcolor": "white",
             "linecolor": "white",
             "minorgridcolor": "white",
             "startlinecolor": "#2a3f5f"
            },
            "type": "carpet"
           }
          ],
          "choropleth": [
           {
            "colorbar": {
             "outlinewidth": 0,
             "ticks": ""
            },
            "type": "choropleth"
           }
          ],
          "contour": [
           {
            "colorbar": {
             "outlinewidth": 0,
             "ticks": ""
            },
            "colorscale": [
             [
              0,
              "#0d0887"
             ],
             [
              0.1111111111111111,
              "#46039f"
             ],
             [
              0.2222222222222222,
              "#7201a8"
             ],
             [
              0.3333333333333333,
              "#9c179e"
             ],
             [
              0.4444444444444444,
              "#bd3786"
             ],
             [
              0.5555555555555556,
              "#d8576b"
             ],
             [
              0.6666666666666666,
              "#ed7953"
             ],
             [
              0.7777777777777778,
              "#fb9f3a"
             ],
             [
              0.8888888888888888,
              "#fdca26"
             ],
             [
              1,
              "#f0f921"
             ]
            ],
            "type": "contour"
           }
          ],
          "contourcarpet": [
           {
            "colorbar": {
             "outlinewidth": 0,
             "ticks": ""
            },
            "type": "contourcarpet"
           }
          ],
          "heatmap": [
           {
            "colorbar": {
             "outlinewidth": 0,
             "ticks": ""
            },
            "colorscale": [
             [
              0,
              "#0d0887"
             ],
             [
              0.1111111111111111,
              "#46039f"
             ],
             [
              0.2222222222222222,
              "#7201a8"
             ],
             [
              0.3333333333333333,
              "#9c179e"
             ],
             [
              0.4444444444444444,
              "#bd3786"
             ],
             [
              0.5555555555555556,
              "#d8576b"
             ],
             [
              0.6666666666666666,
              "#ed7953"
             ],
             [
              0.7777777777777778,
              "#fb9f3a"
             ],
             [
              0.8888888888888888,
              "#fdca26"
             ],
             [
              1,
              "#f0f921"
             ]
            ],
            "type": "heatmap"
           }
          ],
          "heatmapgl": [
           {
            "colorbar": {
             "outlinewidth": 0,
             "ticks": ""
            },
            "colorscale": [
             [
              0,
              "#0d0887"
             ],
             [
              0.1111111111111111,
              "#46039f"
             ],
             [
              0.2222222222222222,
              "#7201a8"
             ],
             [
              0.3333333333333333,
              "#9c179e"
             ],
             [
              0.4444444444444444,
              "#bd3786"
             ],
             [
              0.5555555555555556,
              "#d8576b"
             ],
             [
              0.6666666666666666,
              "#ed7953"
             ],
             [
              0.7777777777777778,
              "#fb9f3a"
             ],
             [
              0.8888888888888888,
              "#fdca26"
             ],
             [
              1,
              "#f0f921"
             ]
            ],
            "type": "heatmapgl"
           }
          ],
          "histogram": [
           {
            "marker": {
             "pattern": {
              "fillmode": "overlay",
              "size": 10,
              "solidity": 0.2
             }
            },
            "type": "histogram"
           }
          ],
          "histogram2d": [
           {
            "colorbar": {
             "outlinewidth": 0,
             "ticks": ""
            },
            "colorscale": [
             [
              0,
              "#0d0887"
             ],
             [
              0.1111111111111111,
              "#46039f"
             ],
             [
              0.2222222222222222,
              "#7201a8"
             ],
             [
              0.3333333333333333,
              "#9c179e"
             ],
             [
              0.4444444444444444,
              "#bd3786"
             ],
             [
              0.5555555555555556,
              "#d8576b"
             ],
             [
              0.6666666666666666,
              "#ed7953"
             ],
             [
              0.7777777777777778,
              "#fb9f3a"
             ],
             [
              0.8888888888888888,
              "#fdca26"
             ],
             [
              1,
              "#f0f921"
             ]
            ],
            "type": "histogram2d"
           }
          ],
          "histogram2dcontour": [
           {
            "colorbar": {
             "outlinewidth": 0,
             "ticks": ""
            },
            "colorscale": [
             [
              0,
              "#0d0887"
             ],
             [
              0.1111111111111111,
              "#46039f"
             ],
             [
              0.2222222222222222,
              "#7201a8"
             ],
             [
              0.3333333333333333,
              "#9c179e"
             ],
             [
              0.4444444444444444,
              "#bd3786"
             ],
             [
              0.5555555555555556,
              "#d8576b"
             ],
             [
              0.6666666666666666,
              "#ed7953"
             ],
             [
              0.7777777777777778,
              "#fb9f3a"
             ],
             [
              0.8888888888888888,
              "#fdca26"
             ],
             [
              1,
              "#f0f921"
             ]
            ],
            "type": "histogram2dcontour"
           }
          ],
          "mesh3d": [
           {
            "colorbar": {
             "outlinewidth": 0,
             "ticks": ""
            },
            "type": "mesh3d"
           }
          ],
          "parcoords": [
           {
            "line": {
             "colorbar": {
              "outlinewidth": 0,
              "ticks": ""
             }
            },
            "type": "parcoords"
           }
          ],
          "pie": [
           {
            "automargin": true,
            "type": "pie"
           }
          ],
          "scatter": [
           {
            "fillpattern": {
             "fillmode": "overlay",
             "size": 10,
             "solidity": 0.2
            },
            "type": "scatter"
           }
          ],
          "scatter3d": [
           {
            "line": {
             "colorbar": {
              "outlinewidth": 0,
              "ticks": ""
             }
            },
            "marker": {
             "colorbar": {
              "outlinewidth": 0,
              "ticks": ""
             }
            },
            "type": "scatter3d"
           }
          ],
          "scattercarpet": [
           {
            "marker": {
             "colorbar": {
              "outlinewidth": 0,
              "ticks": ""
             }
            },
            "type": "scattercarpet"
           }
          ],
          "scattergeo": [
           {
            "marker": {
             "colorbar": {
              "outlinewidth": 0,
              "ticks": ""
             }
            },
            "type": "scattergeo"
           }
          ],
          "scattergl": [
           {
            "marker": {
             "colorbar": {
              "outlinewidth": 0,
              "ticks": ""
             }
            },
            "type": "scattergl"
           }
          ],
          "scattermapbox": [
           {
            "marker": {
             "colorbar": {
              "outlinewidth": 0,
              "ticks": ""
             }
            },
            "type": "scattermapbox"
           }
          ],
          "scatterpolar": [
           {
            "marker": {
             "colorbar": {
              "outlinewidth": 0,
              "ticks": ""
             }
            },
            "type": "scatterpolar"
           }
          ],
          "scatterpolargl": [
           {
            "marker": {
             "colorbar": {
              "outlinewidth": 0,
              "ticks": ""
             }
            },
            "type": "scatterpolargl"
           }
          ],
          "scatterternary": [
           {
            "marker": {
             "colorbar": {
              "outlinewidth": 0,
              "ticks": ""
             }
            },
            "type": "scatterternary"
           }
          ],
          "surface": [
           {
            "colorbar": {
             "outlinewidth": 0,
             "ticks": ""
            },
            "colorscale": [
             [
              0,
              "#0d0887"
             ],
             [
              0.1111111111111111,
              "#46039f"
             ],
             [
              0.2222222222222222,
              "#7201a8"
             ],
             [
              0.3333333333333333,
              "#9c179e"
             ],
             [
              0.4444444444444444,
              "#bd3786"
             ],
             [
              0.5555555555555556,
              "#d8576b"
             ],
             [
              0.6666666666666666,
              "#ed7953"
             ],
             [
              0.7777777777777778,
              "#fb9f3a"
             ],
             [
              0.8888888888888888,
              "#fdca26"
             ],
             [
              1,
              "#f0f921"
             ]
            ],
            "type": "surface"
           }
          ],
          "table": [
           {
            "cells": {
             "fill": {
              "color": "#EBF0F8"
             },
             "line": {
              "color": "white"
             }
            },
            "header": {
             "fill": {
              "color": "#C8D4E3"
             },
             "line": {
              "color": "white"
             }
            },
            "type": "table"
           }
          ]
         },
         "layout": {
          "annotationdefaults": {
           "arrowcolor": "#2a3f5f",
           "arrowhead": 0,
           "arrowwidth": 1
          },
          "autotypenumbers": "strict",
          "coloraxis": {
           "colorbar": {
            "outlinewidth": 0,
            "ticks": ""
           }
          },
          "colorscale": {
           "diverging": [
            [
             0,
             "#8e0152"
            ],
            [
             0.1,
             "#c51b7d"
            ],
            [
             0.2,
             "#de77ae"
            ],
            [
             0.3,
             "#f1b6da"
            ],
            [
             0.4,
             "#fde0ef"
            ],
            [
             0.5,
             "#f7f7f7"
            ],
            [
             0.6,
             "#e6f5d0"
            ],
            [
             0.7,
             "#b8e186"
            ],
            [
             0.8,
             "#7fbc41"
            ],
            [
             0.9,
             "#4d9221"
            ],
            [
             1,
             "#276419"
            ]
           ],
           "sequential": [
            [
             0,
             "#0d0887"
            ],
            [
             0.1111111111111111,
             "#46039f"
            ],
            [
             0.2222222222222222,
             "#7201a8"
            ],
            [
             0.3333333333333333,
             "#9c179e"
            ],
            [
             0.4444444444444444,
             "#bd3786"
            ],
            [
             0.5555555555555556,
             "#d8576b"
            ],
            [
             0.6666666666666666,
             "#ed7953"
            ],
            [
             0.7777777777777778,
             "#fb9f3a"
            ],
            [
             0.8888888888888888,
             "#fdca26"
            ],
            [
             1,
             "#f0f921"
            ]
           ],
           "sequentialminus": [
            [
             0,
             "#0d0887"
            ],
            [
             0.1111111111111111,
             "#46039f"
            ],
            [
             0.2222222222222222,
             "#7201a8"
            ],
            [
             0.3333333333333333,
             "#9c179e"
            ],
            [
             0.4444444444444444,
             "#bd3786"
            ],
            [
             0.5555555555555556,
             "#d8576b"
            ],
            [
             0.6666666666666666,
             "#ed7953"
            ],
            [
             0.7777777777777778,
             "#fb9f3a"
            ],
            [
             0.8888888888888888,
             "#fdca26"
            ],
            [
             1,
             "#f0f921"
            ]
           ]
          },
          "colorway": [
           "#636efa",
           "#EF553B",
           "#00cc96",
           "#ab63fa",
           "#FFA15A",
           "#19d3f3",
           "#FF6692",
           "#B6E880",
           "#FF97FF",
           "#FECB52"
          ],
          "font": {
           "color": "#2a3f5f"
          },
          "geo": {
           "bgcolor": "white",
           "lakecolor": "white",
           "landcolor": "#E5ECF6",
           "showlakes": true,
           "showland": true,
           "subunitcolor": "white"
          },
          "hoverlabel": {
           "align": "left"
          },
          "hovermode": "closest",
          "mapbox": {
           "style": "light"
          },
          "paper_bgcolor": "white",
          "plot_bgcolor": "#E5ECF6",
          "polar": {
           "angularaxis": {
            "gridcolor": "white",
            "linecolor": "white",
            "ticks": ""
           },
           "bgcolor": "#E5ECF6",
           "radialaxis": {
            "gridcolor": "white",
            "linecolor": "white",
            "ticks": ""
           }
          },
          "scene": {
           "xaxis": {
            "backgroundcolor": "#E5ECF6",
            "gridcolor": "white",
            "gridwidth": 2,
            "linecolor": "white",
            "showbackground": true,
            "ticks": "",
            "zerolinecolor": "white"
           },
           "yaxis": {
            "backgroundcolor": "#E5ECF6",
            "gridcolor": "white",
            "gridwidth": 2,
            "linecolor": "white",
            "showbackground": true,
            "ticks": "",
            "zerolinecolor": "white"
           },
           "zaxis": {
            "backgroundcolor": "#E5ECF6",
            "gridcolor": "white",
            "gridwidth": 2,
            "linecolor": "white",
            "showbackground": true,
            "ticks": "",
            "zerolinecolor": "white"
           }
          },
          "shapedefaults": {
           "line": {
            "color": "#2a3f5f"
           }
          },
          "ternary": {
           "aaxis": {
            "gridcolor": "white",
            "linecolor": "white",
            "ticks": ""
           },
           "baxis": {
            "gridcolor": "white",
            "linecolor": "white",
            "ticks": ""
           },
           "bgcolor": "#E5ECF6",
           "caxis": {
            "gridcolor": "white",
            "linecolor": "white",
            "ticks": ""
           }
          },
          "title": {
           "x": 0.05
          },
          "xaxis": {
           "automargin": true,
           "gridcolor": "white",
           "linecolor": "white",
           "ticks": "",
           "title": {
            "standoff": 15
           },
           "zerolinecolor": "white",
           "zerolinewidth": 2
          },
          "yaxis": {
           "automargin": true,
           "gridcolor": "white",
           "linecolor": "white",
           "ticks": "",
           "title": {
            "standoff": 15
           },
           "zerolinecolor": "white",
           "zerolinewidth": 2
          }
         }
        },
        "title": {
         "text": "Points per Cost vs Points per Minute for 2023-24 Season"
        },
        "xaxis": {
         "anchor": "y",
         "domain": [
          0,
          1
         ],
         "title": {
          "text": "Total Points"
         }
        },
        "yaxis": {
         "anchor": "x",
         "domain": [
          0,
          1
         ],
         "title": {
          "text": "Minutes Played"
         }
        }
       }
      }
     },
     "metadata": {},
     "output_type": "display_data"
    }
   ],
   "source": [
    "# Take a look at top players by cost for current season\n",
    "df = pd.read_csv('data/2023-24/cleaned_players.csv')\n",
    "df['points_per_cost_per_minute'] = (df['total_points']/df['minutes'])/df['now_cost']\n",
    "df['name'] = df['first_name'] + ' ' + df['second_name']\n",
    "print(df.head())\n",
    "print(df.columns)\n",
    "# create an interactive view the first_name and second_name when hovering over the scatter plot of points per cost against points per minute and color by element_type and show the legend for the color and have a regression line\n",
    "import plotly.express as px\n",
    "fig = px.scatter(df, x='total_points', y='minutes', color='element_type', hover_name='name', size='now_cost', hover_data=['points_per_cost_per_minute'], trendline='ols')\n",
    "fig.update_layout(title='Points per Cost vs Points per Minute for 2023-24 Season')\n",
    "fig.update_xaxes(title='Total Points')\n",
    "fig.update_yaxes(title='Minutes Played')\n",
    "fig.update_layout(legend_title_text='Position')\n",
    "fig.show()\n"
   ]
  },
  {
   "cell_type": "code",
   "execution_count": 7,
   "metadata": {},
   "outputs": [
    {
     "name": "stdout",
     "output_type": "stream",
     "text": [
      "        first_name               second_name  now_cost  points_per_cost  \\\n",
      "62           Ollie                   Watkins        88         1.659091   \n",
      "495         Erling                   Haaland       142         0.830986   \n",
      "484         Julián                   Álvarez        69         1.652174   \n",
      "99         Dominic                   Solanke        71         1.549296   \n",
      "795        Matheus  Santos Carneiro Da Cunha        57         1.877193   \n",
      "403         Darwin             Núñez Ribeiro        74         1.216216   \n",
      "451        Carlton                    Morris        50         1.720000   \n",
      "168     João Pedro        Junqueira de Jesus        54         1.537037   \n",
      "567      Alexander                      Isak        76         1.039474   \n",
      "634          Chris                      Wood        49         1.530612   \n",
      "439         Elijah                   Adebayo        49         1.530612   \n",
      "266        Nicolas                   Jackson        68         0.985294   \n",
      "230           Zeki                   Amdouni        53         1.245283   \n",
      "11           Eddie                   Nketiah        52         1.250000   \n",
      "142          Yoane                     Wissa        56         1.160714   \n",
      "6          Gabriel         Fernando de Jesus        80         0.787500   \n",
      "300        Odsonne                   Edouard        54         1.129630   \n",
      "165           Evan                  Ferguson        58         1.051724   \n",
      "654        Cameron                    Archer        43         1.372093   \n",
      "543         Rasmus                   Højlund        69         0.855072   \n",
      "145           Neal                    Maupay        49         1.204082   \n",
      "307  Jean-Philippe                    Mateta        49         1.183673   \n",
      "585         Callum                    Wilson        78         0.717949   \n",
      "385           Raúl                   Jiménez        51         1.078431   \n",
      "331        Dominic             Calvert-Lewin        58         0.931034   \n",
      "211           Lyle                    Foster        47         1.106383   \n",
      "453      Chiedozie                    Ogbene        49         1.040816   \n",
      "96         Antoine                   Semenyo        45         1.111111   \n",
      "604          Taiwo                   Awoniyi        63         0.777778   \n",
      "407           Cody                     Gakpo        72         0.666667   \n",
      "\n",
      "     total_points  \n",
      "62            146  \n",
      "495           118  \n",
      "484           114  \n",
      "99            110  \n",
      "795           107  \n",
      "403            90  \n",
      "451            86  \n",
      "168            83  \n",
      "567            79  \n",
      "634            75  \n",
      "439            75  \n",
      "266            67  \n",
      "230            66  \n",
      "11             65  \n",
      "142            65  \n",
      "6              63  \n",
      "300            61  \n",
      "165            61  \n",
      "654            59  \n",
      "543            59  \n",
      "145            59  \n",
      "307            58  \n",
      "585            56  \n",
      "385            55  \n",
      "331            54  \n",
      "211            52  \n",
      "453            51  \n",
      "96             50  \n",
      "604            49  \n",
      "407            48  \n",
      "    first_name           second_name  now_cost  points_per_cost  total_points\n",
      "582     Kieran              Trippier        68         1.500000           102\n",
      "400      Trent      Alexander-Arnold        85         1.164706            99\n",
      "25   Oleksandr             Zinchenko        52         1.634615            85\n",
      "709      Pedro                 Porro        59         1.440678            85\n",
      "18     William                Saliba        56         1.500000            84\n",
      "423     Virgil              van Dijk        63         1.269841            80\n",
      "23    Benjamin                 White        56         1.392857            78\n",
      "342    Vitalii             Mykolenko        46         1.695652            78\n",
      "347      James             Tarkowski        46         1.695652            78\n",
      "4      Gabriel  dos Santos Magalhães        50         1.520000            76\n",
      "579     Fabian                 Schär        53         1.396226            74\n",
      "295    Joachim              Andersen        48         1.520833            73\n",
      "446      Alfie               Doughty        45         1.600000            72\n",
      "506       Kyle                Walker        55         1.218182            67\n",
      "520      Diogo        Dalot Teixeira        51         1.294118            66\n",
      "713   Cristian                Romero        49         1.326531            65\n",
      "272     Thiago     Emiliano da Silva        50         1.280000            64\n",
      "330     Jarrad           Branthwaite        41         1.560976            64\n",
      "309     Tyrick              Mitchell        46         1.369565            63\n",
      "721    Destiny                Udogie        48         1.291667            62\n",
      "64         Pau                Torres        46         1.326087            61\n",
      "256       Levi               Colwill        47         1.297872            61\n",
      "741   Vladimír                Coufal        46         1.326087            61\n",
      "784        Max                Kilman        45         1.333333            60\n",
      "97      Marcos                Senesi        45         1.311111            59\n",
      "559        Dan                  Burn        44         1.340909            59\n",
      "483     Nathan                   Aké        50         1.180000            59\n",
      "51        Ezri           Konsa Ngoyo        46         1.282609            59\n",
      "379    Antonee              Robinson        44         1.318182            58\n",
      "303       Marc                 Guéhi        44         1.318182            58\n",
      "       first_name                second_name  now_cost  points_per_cost  \\\n",
      "418       Mohamed                      Salah       130         1.200000   \n",
      "718           Son                  Heung-min        96         1.416667   \n",
      "17         Bukayo                       Saka        90         1.433333   \n",
      "493          Phil                      Foden        79         1.569620   \n",
      "739        Jarrod                      Bowen        79         1.468354   \n",
      "274          Cole                     Palmer        59         1.898305   \n",
      "564       Anthony                     Gordon        62         1.758065   \n",
      "760         James                Ward-Prowse        60         1.716667   \n",
      "46   Douglas Luiz            Soares de Paulo        56         1.839286   \n",
      "711   Richarlison                 de Andrade        72         1.430556   \n",
      "779         Hwang                   Hee-chan        55         1.818182   \n",
      "167        Pascal                       Groß        64         1.531250   \n",
      "485      Bernardo  Veiga de Carvalho e Silva        65         1.400000   \n",
      "271        Raheem                   Sterling        70         1.300000   \n",
      "65         Moussa                      Diaby        65         1.400000   \n",
      "53           John                     McGinn        55         1.636364   \n",
      "12         Martin                   Ødegaard        85         1.058824   \n",
      "37           Leon                     Bailey        56         1.571429   \n",
      "132         Bryan                     Mbeumo        68         1.279412   \n",
      "404         Diogo          Teixeira da Silva        81         1.061728   \n",
      "10        Gabriel           Martinelli Silva        77         1.090909   \n",
      "762      Mohammed                      Kudus        68         1.220588   \n",
      "419       Dominik                 Szoboszlai        71         1.154930   \n",
      "516         Bruno           Borges Fernandes        82         0.987805   \n",
      "704         Dejan                 Kulusevski        70         1.157143   \n",
      "502       Rodrigo                  Hernandez        56         1.410714   \n",
      "600       Anthony                     Elanga        51         1.549020   \n",
      "334     Abdoulaye                   Doucouré        55         1.436364   \n",
      "27         Declan                       Rice        54         1.444444   \n",
      "754         Tomáš                     Souček        49         1.571429   \n",
      "\n",
      "     total_points  \n",
      "418           156  \n",
      "718           136  \n",
      "17            129  \n",
      "493           124  \n",
      "739           116  \n",
      "274           112  \n",
      "564           109  \n",
      "760           103  \n",
      "46            103  \n",
      "711           103  \n",
      "779           100  \n",
      "167            98  \n",
      "485            91  \n",
      "271            91  \n",
      "65             91  \n",
      "53             90  \n",
      "12             90  \n",
      "37             88  \n",
      "132            87  \n",
      "404            86  \n",
      "10             84  \n",
      "762            83  \n",
      "419            82  \n",
      "516            81  \n",
      "704            81  \n",
      "502            79  \n",
      "600            79  \n",
      "334            79  \n",
      "27             78  \n",
      "754            77  \n",
      "    first_name        second_name  now_cost  points_per_cost  total_points\n",
      "345     Jordan           Pickford        45         1.977778            89\n",
      "401    Alisson      Ramses Becker        57         1.526316            87\n",
      "542      André              Onana        48         1.729167            83\n",
      "371      Bernd               Leno        48         1.708333            82\n",
      "737   Alphonse             Areola        42         1.928571            81\n",
      "52    Emiliano    Martínez Romero        52         1.519231            79\n",
      "91    Norberto        Murara Neto        46         1.630435            75\n",
      "722  Guglielmo            Vicario        53         1.396226            74\n",
      "26       David        Raya Martin        49         1.367347            67\n",
      "789       José     Malheiro de Sá        50         1.240000            62\n",
      "231      James           Trafford        45         1.377778            62\n",
      "125       Mark            Flekken        45         1.333333            60\n",
      "244     Robert            Sánchez        45         1.311111            59\n",
      "492    Ederson  Santana de Moraes        55         1.054545            58\n",
      "576       Nick               Pope        53         1.056604            56\n",
      "305        Sam          Johnstone        45         1.244444            56\n",
      "472     Thomas           Kaminski        45         1.200000            54\n",
      "667        Wes        Foderingham        45         1.177778            53\n",
      "598       Matt             Turner        39         1.076923            42\n",
      "180      Jason             Steele        42         0.904762            38\n",
      "561     Martin           Dubravka        42         0.761905            32\n",
      "286      Đorđe           Petrović        45         0.622222            28\n",
      "184       Bart         Verbruggen        44         0.522727            23\n",
      "15       Aaron           Ramsdale        45         0.377778            17\n",
      "769     Daniel            Bentley        39         0.410256            16\n",
      "746     Lukasz          Fabianski        42         0.309524            13\n",
      "642   Odysseas        Vlachodimos        45         0.266667            12\n",
      "319       Dean          Henderson        44         0.204545             9\n",
      "411   Caoimhin           Kelleher        37         0.189189             7\n",
      "500     Stefan      Ortega Moreno        38         0.105263             4\n"
     ]
    }
   ],
   "source": [
    "elements = df['element_type'].unique()\n",
    "for element in elements:\n",
    "    newdf = df[df['element_type']==element]\n",
    "    newdf = newdf.sort_values(by='total_points', ascending=False)\n",
    "    print(newdf[['first_name', 'second_name', 'now_cost', 'points_per_cost', 'total_points', ]].head(30))"
   ]
  },
  {
   "cell_type": "code",
   "execution_count": 8,
   "metadata": {},
   "outputs": [
    {
     "name": "stdout",
     "output_type": "stream",
     "text": [
      "720.2039555006181\n"
     ]
    }
   ],
   "source": [
    "print(df.now_cost.mean()*15)"
   ]
  },
  {
   "cell_type": "code",
   "execution_count": 9,
   "metadata": {},
   "outputs": [
    {
     "name": "stdout",
     "output_type": "stream",
     "text": [
      "23.022249690976516\n"
     ]
    }
   ],
   "source": [
    "print(df.total_points.mean())"
   ]
  },
  {
   "cell_type": "code",
   "execution_count": 10,
   "metadata": {},
   "outputs": [
    {
     "data": {
      "text/plain": [
       "834"
      ]
     },
     "execution_count": 10,
     "metadata": {},
     "output_type": "execute_result"
    }
   ],
   "source": [
    "df.head(15).now_cost.sum()"
   ]
  }
 ],
 "metadata": {
  "kernelspec": {
   "display_name": "Python 3",
   "language": "python",
   "name": "python3"
  },
  "language_info": {
   "codemirror_mode": {
    "name": "ipython",
    "version": 3
   },
   "file_extension": ".py",
   "mimetype": "text/x-python",
   "name": "python",
   "nbconvert_exporter": "python",
   "pygments_lexer": "ipython3",
   "version": "3.12.0"
  }
 },
 "nbformat": 4,
 "nbformat_minor": 2
}
